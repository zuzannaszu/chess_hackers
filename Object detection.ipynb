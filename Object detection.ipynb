{
 "cells": [
  {
   "cell_type": "code",
   "execution_count": 1,
   "id": "5ad8be7e",
   "metadata": {},
   "outputs": [],
   "source": [
    "import pandas as pd\n",
    "import numpy as np\n",
    "import matplotlib.pyplot as plt\n",
    "from PIL import Image, ImageOps\n",
    "import cv2 as cv\n",
    "import math\n",
    "from PIL import Image, ImageDraw, ImageFont, ImageColor"
   ]
  },
  {
   "cell_type": "code",
   "execution_count": 3,
   "id": "8a8ec2ec",
   "metadata": {},
   "outputs": [
    {
     "data": {
      "text/plain": [
       "(10, 1280, 1280)"
      ]
     },
     "execution_count": 3,
     "metadata": {},
     "output_type": "execute_result"
    }
   ],
   "source": [
    "img_path = \"/home/thierry/code/zuzannaszu/chess_hackers/Raw_Data/new_chess_data/boards/\"\n",
    "img_set = []\n",
    "img_num = []\n",
    "start = 1\n",
    "for i in range(start,start + 10):\n",
    "    img = cv.imread(img_path + f\"board{i}.jpeg\", 0)\n",
    "    img_set.append(img)\n",
    "    img_num.append(i)\n",
    "img_set = np.array(img_set)\n",
    "img_set.shape"
   ]
  },
  {
   "cell_type": "code",
   "execution_count": 4,
   "id": "a65a96be",
   "metadata": {},
   "outputs": [],
   "source": [
    "def display_multiple_img(array):\n",
    "    fig, axs = plt.subplots(5,2,figsize=(10,20))\n",
    "    for i, img in enumerate (array, 1):\n",
    "        plt.subplot(5,2,i)\n",
    "        plt.imshow(img)\n",
    "        plt.title(f\"board{start - 1 + i}\")\n",
    "        \n",
    "def display_compare_img(array1, array2):\n",
    "    fig, axs = plt.subplots(5,4,figsize=(20,20))\n",
    "    for i, img in enumerate (zip(array1, array2), 1):\n",
    "        plt.subplot(5,4, 2 * i - 1)\n",
    "        plt.imshow(img[0])\n",
    "        plt.title(f\"board{start - 1 + i}\")\n",
    "        plt.subplot(5,4, 2 * i)\n",
    "        plt.imshow(img[1])\n",
    "        plt.title(f\"board{start - 1 + i}\")"
   ]
  },
  {
   "cell_type": "code",
   "execution_count": 8,
   "id": "a7b5fd17",
   "metadata": {},
   "outputs": [
    {
     "ename": "NameError",
     "evalue": "name 'stop_data' is not defined",
     "output_type": "error",
     "traceback": [
      "\u001b[0;31m---------------------------------------------------------------------------\u001b[0m",
      "\u001b[0;31mNameError\u001b[0m                                 Traceback (most recent call last)",
      "Cell \u001b[0;32mIn [8], line 4\u001b[0m\n\u001b[1;32m      1\u001b[0m img \u001b[38;5;241m=\u001b[39m img_set[\u001b[38;5;241m2\u001b[39m]\n\u001b[1;32m      3\u001b[0m img_gray \u001b[38;5;241m=\u001b[39m img\u001b[38;5;241m.\u001b[39mcopy()\n\u001b[0;32m----> 4\u001b[0m found \u001b[38;5;241m=\u001b[39m stop_data\u001b[38;5;241m.\u001b[39mdetectMultiScale(img_gray, minSize \u001b[38;5;241m=\u001b[39m(\u001b[38;5;241m20\u001b[39m, \u001b[38;5;241m20\u001b[39m))\n\u001b[1;32m      6\u001b[0m amount_found \u001b[38;5;241m=\u001b[39m \u001b[38;5;28mlen\u001b[39m(found)\n\u001b[1;32m      8\u001b[0m \u001b[38;5;28;01mif\u001b[39;00m amount_found \u001b[38;5;241m!=\u001b[39m \u001b[38;5;241m0\u001b[39m:\n",
      "\u001b[0;31mNameError\u001b[0m: name 'stop_data' is not defined"
     ]
    }
   ],
   "source": [
    "img = img_set[2]\n",
    "\n",
    "img_gray = img.copy()\n",
    "found = stop_data.detectMultiScale(img_gray, minSize =(20, 20))\n",
    "\n",
    "amount_found = len(found)\n",
    "\n",
    "if amount_found != 0:\n",
    "    for (x, y, width, height) in found:\n",
    "        cv.rectangle(img_rgb, (x, y),(x + height, y + width),(0, 255, 0), 5)"
   ]
  },
  {
   "cell_type": "code",
   "execution_count": null,
   "id": "4290250b",
   "metadata": {},
   "outputs": [],
   "source": []
  }
 ],
 "metadata": {
  "kernelspec": {
   "display_name": "Python 3 (ipykernel)",
   "language": "python",
   "name": "python3"
  },
  "language_info": {
   "codemirror_mode": {
    "name": "ipython",
    "version": 3
   },
   "file_extension": ".py",
   "mimetype": "text/x-python",
   "name": "python",
   "nbconvert_exporter": "python",
   "pygments_lexer": "ipython3",
   "version": "3.10.6"
  },
  "toc": {
   "base_numbering": 1,
   "nav_menu": {},
   "number_sections": true,
   "sideBar": true,
   "skip_h1_title": false,
   "title_cell": "Table of Contents",
   "title_sidebar": "Contents",
   "toc_cell": false,
   "toc_position": {},
   "toc_section_display": true,
   "toc_window_display": false
  }
 },
 "nbformat": 4,
 "nbformat_minor": 5
}
