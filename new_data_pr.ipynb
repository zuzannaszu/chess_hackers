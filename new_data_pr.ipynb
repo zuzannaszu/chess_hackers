{
 "cells": [
  {
   "cell_type": "code",
   "execution_count": 3,
   "id": "132b7fbc",
   "metadata": {},
   "outputs": [
    {
     "name": "stdout",
     "output_type": "stream",
     "text": [
      "Found 1310 images belonging to 14 classes.\n",
      "Found 660 images belonging to 14 classes.\n",
      "Found 2658 images belonging to 14 classes.\n"
     ]
    }
   ],
   "source": [
    "import tensorflow as tf\n",
    "from tensorflow.keras.preprocessing.image import ImageDataGenerator\n",
    "from tensorflow.keras.regularizers import l2\n",
    "\n",
    "image_size = (120, 160)\n",
    "batch_size =128\n",
    "\n",
    "\n",
    "train_dir = \"/Users/zuzannaszubartowska/code/crop_colour/data/train\"\n",
    "test_dir = \"/Users/zuzannaszubartowska/code/crop_colour/data/test\"\n",
    "valid_dir = \"/Users/zuzannaszubartowska/code/crop_colour/data/validation\"\n",
    "\n",
    "\n",
    "num_classes = 14\n",
    "\n",
    "train_datagen = ImageDataGenerator(rescale=1./255)\n",
    "test_datagen = ImageDataGenerator(rescale=1./255)\n",
    "validation_datagen = ImageDataGenerator(rescale=1./255)\n",
    "\n",
    "train_generator = train_datagen.flow_from_directory(\n",
    "    train_dir,\n",
    "    target_size=(120, 160),\n",
    "    batch_size=batch_size,\n",
    "    class_mode='categorical',\n",
    "    classes=['blackbishop', 'blackking', 'blackknight', 'blackpawn', 'blackqueen', 'blackrook', 'whitebishop', 'whiteking', 'whiteknight', 'whitepawn', 'whitequeen', 'whiterook','blackempty','whiteempty'])\n",
    "\n",
    "\n",
    "validation_generator = validation_datagen.flow_from_directory(\n",
    "    valid_dir,\n",
    "    target_size=(120, 160),\n",
    "    batch_size=batch_size,\n",
    "    class_mode='categorical',classes=['blackbishop', 'blackking', 'blackknight', 'blackpawn', 'blackqueen', 'blackrook', 'whitebishop', 'whiteking', 'whiteknight', 'whitepawn', 'whitequeen', 'whiterook','blackempty','whiteempty'])\n",
    "\n",
    "\n",
    "test_generator = test_datagen.flow_from_directory(\n",
    "    test_dir,\n",
    "    target_size=(120, 160),\n",
    "    batch_size=batch_size,\n",
    "    class_mode='categorical',\n",
    "    classes=['blackbishop', 'blackking', 'blackknight', 'blackpawn', 'blackqueen', 'blackrook', 'whitebishop', 'whiteking', 'whiteknight', 'whitepawn', 'whitequeen', 'whiterook','blackempty','whiteempty'])\n",
    "\n",
    "\n",
    "model = tf.keras.models.Sequential([\n",
    "    tf.keras.layers.Conv2D(64, (3, 3), activation='relu', kernel_regularizer=l2(0.001),input_shape=(120, 160,3)),\n",
    "    tf.keras.layers.MaxPooling2D((2, 2)),\n",
    "    tf.keras.layers.Conv2D(128, (3, 3), activation='relu',kernel_regularizer=l2(0.001)),\n",
    "    tf.keras.layers.MaxPooling2D((2, 2)),\n",
    "    tf.keras.layers.Conv2D(256, (2, 2), activation='relu', kernel_regularizer=l2(0.001)),\n",
    "    tf.keras.layers.MaxPooling2D((2, 2)),\n",
    "    tf.keras.layers.Conv2D(512, (3, 3), activation='relu', kernel_regularizer=l2(0.001)),\n",
    "    tf.keras.layers.MaxPooling2D((2, 2)),\n",
    "    tf.keras.layers.Conv2D(1024, (3, 3), activation='relu', kernel_regularizer=l2(0.001)),\n",
    "    tf.keras.layers.MaxPooling2D((2, 2)),\n",
    "    tf.keras.layers.Flatten(),\n",
    "    tf.keras.layers.Dense(512, activation='relu'),\n",
    "    tf.keras.layers.Dropout(0.3),\n",
    "    tf.keras.layers.Dense(num_classes, activation='softmax')\n",
    "    ])"
   ]
  },
  {
   "cell_type": "code",
   "execution_count": 4,
   "id": "1397d2dd",
   "metadata": {},
   "outputs": [],
   "source": [
    "model.compile(loss='categorical_crossentropy',\n",
    "              optimizer='adam',\n",
    "              metrics=['accuracy'])"
   ]
  },
  {
   "cell_type": "code",
   "execution_count": 5,
   "id": "3a5bd73a",
   "metadata": {},
   "outputs": [
    {
     "name": "stdout",
     "output_type": "stream",
     "text": [
      "Model: \"sequential_2\"\n",
      "_________________________________________________________________\n",
      " Layer (type)                Output Shape              Param #   \n",
      "=================================================================\n",
      " conv2d_10 (Conv2D)          (None, 118, 158, 64)      1792      \n",
      "                                                                 \n",
      " max_pooling2d_10 (MaxPoolin  (None, 59, 79, 64)       0         \n",
      " g2D)                                                            \n",
      "                                                                 \n",
      " conv2d_11 (Conv2D)          (None, 57, 77, 128)       73856     \n",
      "                                                                 \n",
      " max_pooling2d_11 (MaxPoolin  (None, 28, 38, 128)      0         \n",
      " g2D)                                                            \n",
      "                                                                 \n",
      " conv2d_12 (Conv2D)          (None, 27, 37, 256)       131328    \n",
      "                                                                 \n",
      " max_pooling2d_12 (MaxPoolin  (None, 13, 18, 256)      0         \n",
      " g2D)                                                            \n",
      "                                                                 \n",
      " conv2d_13 (Conv2D)          (None, 11, 16, 512)       1180160   \n",
      "                                                                 \n",
      " max_pooling2d_13 (MaxPoolin  (None, 5, 8, 512)        0         \n",
      " g2D)                                                            \n",
      "                                                                 \n",
      " conv2d_14 (Conv2D)          (None, 3, 6, 1024)        4719616   \n",
      "                                                                 \n",
      " max_pooling2d_14 (MaxPoolin  (None, 1, 3, 1024)       0         \n",
      " g2D)                                                            \n",
      "                                                                 \n",
      " flatten_2 (Flatten)         (None, 3072)              0         \n",
      "                                                                 \n",
      " dense_4 (Dense)             (None, 512)               1573376   \n",
      "                                                                 \n",
      " dropout_2 (Dropout)         (None, 512)               0         \n",
      "                                                                 \n",
      " dense_5 (Dense)             (None, 14)                7182      \n",
      "                                                                 \n",
      "=================================================================\n",
      "Total params: 7,687,310\n",
      "Trainable params: 7,687,310\n",
      "Non-trainable params: 0\n",
      "_________________________________________________________________\n"
     ]
    }
   ],
   "source": [
    "model.summary()"
   ]
  },
  {
   "cell_type": "code",
   "execution_count": 6,
   "id": "37248972",
   "metadata": {},
   "outputs": [
    {
     "name": "stdout",
     "output_type": "stream",
     "text": [
      "Epoch 1/100\n"
     ]
    },
    {
     "name": "stderr",
     "output_type": "stream",
     "text": [
      "2023-03-12 22:36:05.037534: W tensorflow/core/platform/profile_utils/cpu_utils.cc:128] Failed to get CPU frequency: 0 Hz\n"
     ]
    },
    {
     "name": "stdout",
     "output_type": "stream",
     "text": [
      "10/10 [==============================] - 37s 4s/step - loss: 3.3096 - accuracy: 0.2885 - val_loss: 2.7369 - val_accuracy: 0.3313\n",
      "Epoch 2/100\n",
      "10/10 [==============================] - 36s 4s/step - loss: 2.5871 - accuracy: 0.4687 - val_loss: 2.3049 - val_accuracy: 0.6062\n",
      "Epoch 3/100\n",
      "10/10 [==============================] - 38s 4s/step - loss: 1.9766 - accuracy: 0.6083 - val_loss: 1.7678 - val_accuracy: 0.6125\n",
      "Epoch 4/100\n",
      "10/10 [==============================] - 38s 4s/step - loss: 1.6909 - accuracy: 0.6345 - val_loss: 1.5530 - val_accuracy: 0.6578\n",
      "Epoch 5/100\n",
      "10/10 [==============================] - 41s 4s/step - loss: 1.5080 - accuracy: 0.6672 - val_loss: 1.4100 - val_accuracy: 0.6859\n",
      "Epoch 6/100\n",
      "10/10 [==============================] - 37s 4s/step - loss: 1.3393 - accuracy: 0.7107 - val_loss: 1.2252 - val_accuracy: 0.7172\n",
      "Epoch 7/100\n",
      "10/10 [==============================] - 38s 4s/step - loss: 1.1665 - accuracy: 0.7293 - val_loss: 1.0709 - val_accuracy: 0.7391\n",
      "Epoch 8/100\n",
      "10/10 [==============================] - 37s 4s/step - loss: 1.0956 - accuracy: 0.7470 - val_loss: 1.0463 - val_accuracy: 0.7422\n",
      "Epoch 9/100\n",
      "10/10 [==============================] - 38s 4s/step - loss: 1.0009 - accuracy: 0.7479 - val_loss: 0.9821 - val_accuracy: 0.7469\n",
      "Epoch 10/100\n",
      "10/10 [==============================] - 38s 4s/step - loss: 0.9268 - accuracy: 0.7496 - val_loss: 0.9369 - val_accuracy: 0.7437\n",
      "Epoch 11/100\n",
      "10/10 [==============================] - 38s 4s/step - loss: 0.9030 - accuracy: 0.7707 - val_loss: 0.9197 - val_accuracy: 0.7594\n",
      "Epoch 12/100\n",
      "10/10 [==============================] - 38s 4s/step - loss: 0.8940 - accuracy: 0.7682 - val_loss: 0.8666 - val_accuracy: 0.7688\n",
      "Epoch 13/100\n",
      "10/10 [==============================] - 38s 4s/step - loss: 0.8484 - accuracy: 0.7758 - val_loss: 0.8715 - val_accuracy: 0.7563\n",
      "Epoch 14/100\n",
      "10/10 [==============================] - 41s 4s/step - loss: 0.8360 - accuracy: 0.7844 - val_loss: 0.8464 - val_accuracy: 0.7797\n",
      "Epoch 15/100\n",
      "10/10 [==============================] - 41s 4s/step - loss: 0.7701 - accuracy: 0.7922 - val_loss: 0.7590 - val_accuracy: 0.7937\n",
      "Epoch 16/100\n",
      "10/10 [==============================] - 39s 4s/step - loss: 0.7238 - accuracy: 0.8020 - val_loss: 0.7828 - val_accuracy: 0.8016\n",
      "Epoch 17/100\n",
      "10/10 [==============================] - 40s 4s/step - loss: 0.7729 - accuracy: 0.7834 - val_loss: 0.7561 - val_accuracy: 0.7828\n",
      "Epoch 18/100\n",
      "10/10 [==============================] - 39s 4s/step - loss: 0.7117 - accuracy: 0.8156 - val_loss: 0.7522 - val_accuracy: 0.7844\n",
      "Epoch 19/100\n",
      "10/10 [==============================] - 40s 4s/step - loss: 0.6845 - accuracy: 0.8215 - val_loss: 0.8781 - val_accuracy: 0.7391\n",
      "Epoch 20/100\n",
      "10/10 [==============================] - 40s 4s/step - loss: 0.7194 - accuracy: 0.8122 - val_loss: 0.7082 - val_accuracy: 0.8203\n",
      "Epoch 21/100\n",
      "10/10 [==============================] - 40s 4s/step - loss: 0.6532 - accuracy: 0.8274 - val_loss: 0.6613 - val_accuracy: 0.8406\n",
      "Epoch 22/100\n",
      "10/10 [==============================] - 40s 4s/step - loss: 0.6142 - accuracy: 0.8367 - val_loss: 0.6376 - val_accuracy: 0.8313\n",
      "Epoch 23/100\n",
      "10/10 [==============================] - 40s 4s/step - loss: 0.5576 - accuracy: 0.8613 - val_loss: 0.7123 - val_accuracy: 0.8156\n",
      "Epoch 24/100\n",
      "10/10 [==============================] - 42s 4s/step - loss: 0.5526 - accuracy: 0.8523 - val_loss: 0.6473 - val_accuracy: 0.8469\n",
      "Epoch 25/100\n",
      "10/10 [==============================] - 39s 4s/step - loss: 0.5392 - accuracy: 0.8655 - val_loss: 0.6141 - val_accuracy: 0.8391\n",
      "Epoch 26/100\n",
      "10/10 [==============================] - 39s 4s/step - loss: 0.5180 - accuracy: 0.8697 - val_loss: 0.5869 - val_accuracy: 0.8531\n",
      "Epoch 27/100\n",
      "10/10 [==============================] - 39s 4s/step - loss: 0.4768 - accuracy: 0.8926 - val_loss: 0.6308 - val_accuracy: 0.8453\n",
      "Epoch 28/100\n",
      "10/10 [==============================] - 39s 4s/step - loss: 0.4734 - accuracy: 0.8765 - val_loss: 0.6400 - val_accuracy: 0.8531\n",
      "Epoch 29/100\n",
      "10/10 [==============================] - 42s 4s/step - loss: 0.4427 - accuracy: 0.9008 - val_loss: 0.6181 - val_accuracy: 0.8500\n",
      "Epoch 30/100\n",
      "10/10 [==============================] - 39s 4s/step - loss: 0.4108 - accuracy: 0.9137 - val_loss: 0.5361 - val_accuracy: 0.8891\n",
      "Epoch 31/100\n",
      "10/10 [==============================] - 39s 4s/step - loss: 0.4077 - accuracy: 0.9078 - val_loss: 0.6157 - val_accuracy: 0.8672\n",
      "Epoch 32/100\n",
      "10/10 [==============================] - 39s 4s/step - loss: 0.3962 - accuracy: 0.9120 - val_loss: 0.5162 - val_accuracy: 0.8984\n",
      "Epoch 33/100\n",
      "10/10 [==============================] - 42s 4s/step - loss: 0.3768 - accuracy: 0.9266 - val_loss: 0.5364 - val_accuracy: 0.8938\n",
      "Epoch 34/100\n",
      "10/10 [==============================] - 40s 4s/step - loss: 0.4244 - accuracy: 0.8993 - val_loss: 0.6289 - val_accuracy: 0.8500\n",
      "Epoch 35/100\n",
      "10/10 [==============================] - 40s 4s/step - loss: 0.3952 - accuracy: 0.9086 - val_loss: 0.5937 - val_accuracy: 0.8641\n",
      "Epoch 36/100\n",
      "10/10 [==============================] - 40s 4s/step - loss: 0.4243 - accuracy: 0.8976 - val_loss: 0.5552 - val_accuracy: 0.8875\n",
      "Epoch 37/100\n",
      "10/10 [==============================] - 40s 4s/step - loss: 0.4282 - accuracy: 0.8951 - val_loss: 0.6054 - val_accuracy: 0.8641\n",
      "Epoch 38/100\n",
      "10/10 [==============================] - 40s 4s/step - loss: 0.3671 - accuracy: 0.9239 - val_loss: 0.5375 - val_accuracy: 0.9031\n",
      "Epoch 39/100\n",
      "10/10 [==============================] - 40s 4s/step - loss: 0.3293 - accuracy: 0.9374 - val_loss: 0.5380 - val_accuracy: 0.9000\n",
      "Epoch 40/100\n",
      "10/10 [==============================] - 42s 4s/step - loss: 0.3715 - accuracy: 0.9250 - val_loss: 0.7001 - val_accuracy: 0.8625\n",
      "Epoch 41/100\n",
      "10/10 [==============================] - 42s 4s/step - loss: 0.3757 - accuracy: 0.9281 - val_loss: 0.5791 - val_accuracy: 0.8875\n",
      "Epoch 42/100\n",
      "10/10 [==============================] - 39s 4s/step - loss: 0.3995 - accuracy: 0.9120 - val_loss: 0.6609 - val_accuracy: 0.8656\n",
      "Epoch 43/100\n",
      "10/10 [==============================] - 38s 4s/step - loss: 0.3584 - accuracy: 0.9332 - val_loss: 0.5232 - val_accuracy: 0.9078\n",
      "Epoch 44/100\n",
      "10/10 [==============================] - 38s 4s/step - loss: 0.3297 - accuracy: 0.9509 - val_loss: 0.4988 - val_accuracy: 0.8984\n",
      "Epoch 45/100\n",
      "10/10 [==============================] - 38s 4s/step - loss: 0.2707 - accuracy: 0.9619 - val_loss: 0.5703 - val_accuracy: 0.9078\n",
      "Epoch 46/100\n",
      "10/10 [==============================] - 39s 4s/step - loss: 0.2306 - accuracy: 0.9763 - val_loss: 0.5541 - val_accuracy: 0.9172\n",
      "Epoch 47/100\n",
      "10/10 [==============================] - 39s 4s/step - loss: 0.2285 - accuracy: 0.9704 - val_loss: 0.6608 - val_accuracy: 0.8984\n",
      "Epoch 48/100\n",
      "10/10 [==============================] - 39s 4s/step - loss: 0.2357 - accuracy: 0.9721 - val_loss: 0.5663 - val_accuracy: 0.9125\n",
      "Epoch 49/100\n",
      "10/10 [==============================] - 39s 4s/step - loss: 0.2261 - accuracy: 0.9755 - val_loss: 0.5612 - val_accuracy: 0.9094\n",
      "Epoch 50/100\n",
      "10/10 [==============================] - 40s 4s/step - loss: 0.2539 - accuracy: 0.9602 - val_loss: 0.5378 - val_accuracy: 0.9219\n",
      "Epoch 51/100\n",
      "10/10 [==============================] - 40s 4s/step - loss: 0.2067 - accuracy: 0.9848 - val_loss: 0.6005 - val_accuracy: 0.8984\n",
      "Epoch 52/100\n",
      "10/10 [==============================] - 38s 4s/step - loss: 0.2195 - accuracy: 0.9780 - val_loss: 0.5767 - val_accuracy: 0.9109\n",
      "Epoch 53/100\n",
      "10/10 [==============================] - 39s 4s/step - loss: 0.2426 - accuracy: 0.9670 - val_loss: 0.6093 - val_accuracy: 0.9047\n",
      "Epoch 54/100\n",
      "10/10 [==============================] - 38s 4s/step - loss: 0.2806 - accuracy: 0.9518 - val_loss: 0.6470 - val_accuracy: 0.8891\n",
      "Epoch 55/100\n",
      "10/10 [==============================] - 38s 4s/step - loss: 0.2385 - accuracy: 0.9687 - val_loss: 0.5298 - val_accuracy: 0.9125\n",
      "Epoch 56/100\n",
      "10/10 [==============================] - 41s 4s/step - loss: 0.2590 - accuracy: 0.9672 - val_loss: 0.6648 - val_accuracy: 0.8891\n",
      "Epoch 57/100\n",
      "10/10 [==============================] - 38s 4s/step - loss: 0.2877 - accuracy: 0.9459 - val_loss: 0.5969 - val_accuracy: 0.8891\n",
      "Epoch 58/100\n",
      "10/10 [==============================] - 39s 4s/step - loss: 0.2633 - accuracy: 0.9569 - val_loss: 0.5757 - val_accuracy: 0.9172\n"
     ]
    },
    {
     "name": "stdout",
     "output_type": "stream",
     "text": [
      "Epoch 59/100\n",
      "10/10 [==============================] - 39s 4s/step - loss: 0.2619 - accuracy: 0.9636 - val_loss: 0.5539 - val_accuracy: 0.9094\n",
      "Epoch 60/100\n",
      "10/10 [==============================] - ETA: 0s - loss: 0.2366 - accuracy: 0.9704Restoring model weights from the end of the best epoch: 50.\n",
      "10/10 [==============================] - 39s 4s/step - loss: 0.2366 - accuracy: 0.9704 - val_loss: 0.5234 - val_accuracy: 0.9219\n",
      "Epoch 60: early stopping\n"
     ]
    }
   ],
   "source": [
    "from keras.callbacks import EarlyStopping\n",
    "\n",
    "earlystop_callback = EarlyStopping(\n",
    "    monitor='val_accuracy', \n",
    "    min_delta=0.001, \n",
    "    patience=10, \n",
    "    verbose=1, \n",
    "    mode='auto',\n",
    "    restore_best_weights=True\n",
    ")\n",
    "\n",
    "history = model.fit(\n",
    "    train_generator,\n",
    "    steps_per_epoch=train_generator.samples // batch_size,\n",
    "    epochs=100,\n",
    "    validation_data=validation_generator,\n",
    "    validation_steps=validation_generator.samples // batch_size,\n",
    "    callbacks=[earlystop_callback]\n",
    ")\n"
   ]
  },
  {
   "cell_type": "code",
   "execution_count": 7,
   "id": "ccc8a474",
   "metadata": {},
   "outputs": [
    {
     "name": "stdout",
     "output_type": "stream",
     "text": [
      "21/21 [==============================] - 14s 671ms/step - loss: 0.4901 - accuracy: 0.9349\n",
      "Test loss: 0.4901471734046936\n",
      "Test accuracy: 0.9349134564399719\n"
     ]
    }
   ],
   "source": [
    "test_loss, test_acc = model.evaluate(test_generator)\n",
    "\n",
    "print('Test loss:', test_loss)\n",
    "print('Test accuracy:', test_acc)"
   ]
  },
  {
   "cell_type": "code",
   "execution_count": 8,
   "id": "a0687f9a",
   "metadata": {},
   "outputs": [
    {
     "name": "stderr",
     "output_type": "stream",
     "text": [
      "WARNING:absl:Found untraced functions such as _jit_compiled_convolution_op, _jit_compiled_convolution_op, _jit_compiled_convolution_op, _jit_compiled_convolution_op, _jit_compiled_convolution_op while saving (showing 5 of 5). These functions will not be directly callable after loading.\n"
     ]
    },
    {
     "name": "stdout",
     "output_type": "stream",
     "text": [
      "INFO:tensorflow:Assets written to: /Users/zuzannaszubartowska/code/zuzannaszu/chess_hackers/assets\n"
     ]
    },
    {
     "name": "stderr",
     "output_type": "stream",
     "text": [
      "INFO:tensorflow:Assets written to: /Users/zuzannaszubartowska/code/zuzannaszu/chess_hackers/assets\n"
     ]
    }
   ],
   "source": [
    "model.save('/Users/zuzannaszubartowska/code/zuzannaszu/chess_hackers')"
   ]
  },
  {
   "cell_type": "code",
   "execution_count": 58,
   "id": "2f17d99b",
   "metadata": {},
   "outputs": [
    {
     "data": {
      "image/png": "[encoded data removed]",
      "text/plain": [
       "<PIL.Image.Image image mode=RGB size=160x120>"
      ]
     },
     "execution_count": 58,
     "metadata": {},
     "output_type": "execute_result"
    }
   ],
   "source": [
    "from tensorflow.keras.preprocessing.image import load_img, img_to_array\n",
    "\n",
    "img_path = '/Users/zuzannaszubartowska/code/crop_colour/puzzle/blackking/puzzle1-crop7.jpeg'\n",
    "img = load_img(img_path, target_size=(120, 160))\n",
    "\n",
    "img_array = img_to_array(img)\n",
    "\n",
    "img"
   ]
  },
  {
   "cell_type": "code",
   "execution_count": 59,
   "id": "1f1cf5ea",
   "metadata": {},
   "outputs": [
    {
     "name": "stdout",
     "output_type": "stream",
     "text": [
      "1/1 [==============================] - 0s 26ms/step\n",
      "Predicted class label:  blackqueen\n"
     ]
    }
   ],
   "source": [
    "import numpy as np\n",
    "\n",
    "img_array /= 255.0\n",
    "\n",
    "img_array = np.expand_dims(img_array, axis=0)\n",
    "\n",
    "predictions = model.predict(img_array)\n",
    "\n",
    "predicted_class_index = np.argmax(predictions)\n",
    "\n",
    "class_labels = list(train_generator.class_indices.keys())\n",
    "predicted_class_label = class_labels[predicted_class_index]\n",
    "\n",
    "\n",
    "print(\"Predicted class label: \", predicted_class_label)"
   ]
  },
  {
   "cell_type": "code",
   "execution_count": null,
   "id": "47d4b18b",
   "metadata": {},
   "outputs": [],
   "source": []
  }
 ],
 "metadata": {
  "kernelspec": {
   "display_name": "Python 3 (ipykernel)",
   "language": "python",
   "name": "python3"
  },
  "language_info": {
   "codemirror_mode": {
    "name": "ipython",
    "version": 3
   },
   "file_extension": ".py",
   "mimetype": "text/x-python",
   "name": "python",
   "nbconvert_exporter": "python",
   "pygments_lexer": "ipython3",
   "version": "3.10.6"
  },
  "toc": {
   "base_numbering": 1,
   "nav_menu": {},
   "number_sections": true,
   "sideBar": true,
   "skip_h1_title": false,
   "title_cell": "Table of Contents",
   "title_sidebar": "Contents",
   "toc_cell": false,
   "toc_position": {},
   "toc_section_display": true,
   "toc_window_display": false
  }
 },
 "nbformat": 4,
 "nbformat_minor": 5
}
