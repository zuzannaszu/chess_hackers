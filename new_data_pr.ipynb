{
 "cells": [
  {
   "cell_type": "code",
   "execution_count": 14,
   "id": "ed3ae066",
   "metadata": {},
   "outputs": [
    {
     "name": "stdout",
     "output_type": "stream",
     "text": [
      "Found 1840 images belonging to 6 classes.\n",
      "Found 540 images belonging to 6 classes.\n",
      "Found 1530 images belonging to 6 classes.\n"
     ]
    }
   ],
   "source": [
    "import tensorflow as tf\n",
    "from tensorflow.keras.preprocessing.image import ImageDataGenerator\n",
    "from tensorflow.keras.regularizers import l2\n",
    "\n",
    "image_size = (120, 160)\n",
    "batch_size =64\n",
    "\n",
    "\n",
    "train_dir = \"/Users/zuzannaszubartowska/code/crop_colour/data/train\"\n",
    "test_dir = \"/Users/zuzannaszubartowska/code/crop_colour/data/test\"\n",
    "valid_dir = \"/Users/zuzannaszubartowska/code/crop_colour/data/validation\"\n",
    "\n",
    "\n",
    "num_classes = 6\n",
    "\n",
    "train_datagen = ImageDataGenerator(rescale=1./255)\n",
    "test_datagen = ImageDataGenerator(rescale=1./255)\n",
    "validation_datagen = ImageDataGenerator(rescale=1./255)\n",
    "\n",
    "train_generator = train_datagen.flow_from_directory(\n",
    "    train_dir,\n",
    "    target_size=(120, 160),\n",
    "    batch_size=batch_size,\n",
    "    class_mode='categorical',\n",
    "    classes=['blackempty', 'blackking', 'blackpawn','whiteempty', 'whiteking','whitepawn'])\n",
    "\n",
    "\n",
    "validation_generator = validation_datagen.flow_from_directory(\n",
    "    valid_dir,\n",
    "    target_size=(120, 160),\n",
    "    batch_size=batch_size,\n",
    "    class_mode='categorical',classes=['blackempty', 'blackking', 'blackpawn','whiteempty', 'whiteking','whitepawn'])\n",
    "\n",
    "\n",
    "test_generator = test_datagen.flow_from_directory(\n",
    "    test_dir,\n",
    "    target_size=(120, 160),\n",
    "    batch_size=batch_size,\n",
    "    class_mode='categorical', classes=['blackempty', 'blackking', 'blackpawn','whiteempty', 'whiteking','whitepawn'])\n",
    "\n",
    "\n",
    "model = tf.keras.models.Sequential([\n",
    "    tf.keras.layers.Conv2D(64, (2, 2), activation='relu', kernel_regularizer=l2(0.001),input_shape=(120, 160,3)),\n",
    "    tf.keras.layers.MaxPooling2D((2, 2)),\n",
    "    tf.keras.layers.Conv2D(128, (2, 2), activation='relu',kernel_regularizer=l2(0.001)),\n",
    "    tf.keras.layers.MaxPooling2D((2, 2)),\n",
    "    tf.keras.layers.Conv2D(256, (2, 2), activation='relu', kernel_regularizer=l2(0.001)),\n",
    "    tf.keras.layers.MaxPooling2D((2, 2)),\n",
    "    tf.keras.layers.Conv2D(512, (3, 3), activation='relu', kernel_regularizer=l2(0.001)),\n",
    "    tf.keras.layers.MaxPooling2D((2, 2)),\n",
    "    tf.keras.layers.Conv2D(1024, (3, 3), activation='relu', kernel_regularizer=l2(0.001)),\n",
    "    tf.keras.layers.MaxPooling2D((2, 2)),\n",
    "    tf.keras.layers.Flatten(),\n",
    "    tf.keras.layers.Dense(512, activation='relu'),\n",
    "    tf.keras.layers.Dropout(0.2),\n",
    "    tf.keras.layers.Dense(num_classes, activation='softmax')\n",
    "    ])"
   ]
  },
  {
   "cell_type": "code",
   "execution_count": 15,
   "id": "c6d71994",
   "metadata": {},
   "outputs": [],
   "source": [
    "model.compile(loss='categorical_crossentropy',\n",
    "              optimizer='adam',\n",
    "              metrics=['accuracy'])"
   ]
  },
  {
   "cell_type": "code",
   "execution_count": 16,
   "id": "456e39b2",
   "metadata": {},
   "outputs": [
    {
     "name": "stdout",
     "output_type": "stream",
     "text": [
      "Model: \"sequential_4\"\n",
      "_________________________________________________________________\n",
      " Layer (type)                Output Shape              Param #   \n",
      "=================================================================\n",
      " conv2d_20 (Conv2D)          (None, 119, 159, 64)      832       \n",
      "                                                                 \n",
      " max_pooling2d_20 (MaxPoolin  (None, 59, 79, 64)       0         \n",
      " g2D)                                                            \n",
      "                                                                 \n",
      " conv2d_21 (Conv2D)          (None, 58, 78, 128)       32896     \n",
      "                                                                 \n",
      " max_pooling2d_21 (MaxPoolin  (None, 29, 39, 128)      0         \n",
      " g2D)                                                            \n",
      "                                                                 \n",
      " conv2d_22 (Conv2D)          (None, 28, 38, 256)       131328    \n",
      "                                                                 \n",
      " max_pooling2d_22 (MaxPoolin  (None, 14, 19, 256)      0         \n",
      " g2D)                                                            \n",
      "                                                                 \n",
      " conv2d_23 (Conv2D)          (None, 12, 17, 512)       1180160   \n",
      "                                                                 \n",
      " max_pooling2d_23 (MaxPoolin  (None, 6, 8, 512)        0         \n",
      " g2D)                                                            \n",
      "                                                                 \n",
      " conv2d_24 (Conv2D)          (None, 4, 6, 1024)        4719616   \n",
      "                                                                 \n",
      " max_pooling2d_24 (MaxPoolin  (None, 2, 3, 1024)       0         \n",
      " g2D)                                                            \n",
      "                                                                 \n",
      " flatten_4 (Flatten)         (None, 6144)              0         \n",
      "                                                                 \n",
      " dense_8 (Dense)             (None, 512)               3146240   \n",
      "                                                                 \n",
      " dropout_4 (Dropout)         (None, 512)               0         \n",
      "                                                                 \n",
      " dense_9 (Dense)             (None, 6)                 3078      \n",
      "                                                                 \n",
      "=================================================================\n",
      "Total params: 9,214,150\n",
      "Trainable params: 9,214,150\n",
      "Non-trainable params: 0\n",
      "_________________________________________________________________\n"
     ]
    }
   ],
   "source": [
    "model.summary()"
   ]
  },
  {
   "cell_type": "code",
   "execution_count": 17,
   "id": "2cce2855",
   "metadata": {},
   "outputs": [
    {
     "name": "stdout",
     "output_type": "stream",
     "text": [
      "Epoch 1/15\n",
      "28/28 [==============================] - 37s 1s/step - loss: 1.7893 - accuracy: 0.6346 - val_loss: 0.8873 - val_accuracy: 0.7988\n",
      "Epoch 2/15\n",
      "28/28 [==============================] - 38s 1s/step - loss: 0.7486 - accuracy: 0.8559 - val_loss: 0.5531 - val_accuracy: 0.8867\n",
      "Epoch 3/15\n",
      "28/28 [==============================] - 39s 1s/step - loss: 0.5003 - accuracy: 0.9229 - val_loss: 0.3856 - val_accuracy: 0.9629\n",
      "Epoch 4/15\n",
      "28/28 [==============================] - 39s 1s/step - loss: 0.3585 - accuracy: 0.9572 - val_loss: 0.3389 - val_accuracy: 0.9590\n",
      "Epoch 5/15\n",
      "28/28 [==============================] - 39s 1s/step - loss: 0.3500 - accuracy: 0.9488 - val_loss: 0.3104 - val_accuracy: 0.9746\n",
      "Epoch 6/15\n",
      "28/28 [==============================] - 40s 1s/step - loss: 0.2750 - accuracy: 0.9690 - val_loss: 0.3398 - val_accuracy: 0.9531\n",
      "Epoch 7/15\n",
      "28/28 [==============================] - 40s 1s/step - loss: 0.3328 - accuracy: 0.9505 - val_loss: 0.2980 - val_accuracy: 0.9707\n",
      "Epoch 8/15\n",
      "28/28 [==============================] - 40s 1s/step - loss: 0.2336 - accuracy: 0.9809 - val_loss: 0.2296 - val_accuracy: 0.9863\n",
      "Epoch 9/15\n",
      "28/28 [==============================] - 40s 1s/step - loss: 0.2061 - accuracy: 0.9876 - val_loss: 0.2140 - val_accuracy: 0.9805\n",
      "Epoch 10/15\n",
      "28/28 [==============================] - 40s 1s/step - loss: 0.1969 - accuracy: 0.9859 - val_loss: 0.1909 - val_accuracy: 0.9863\n",
      "Epoch 11/15\n",
      "28/28 [==============================] - 40s 1s/step - loss: 0.1912 - accuracy: 0.9842 - val_loss: 0.2383 - val_accuracy: 0.9746\n",
      "Epoch 12/15\n",
      "28/28 [==============================] - ETA: 0s - loss: 0.2067 - accuracy: 0.9747Restoring model weights from the end of the best epoch: 8.\n",
      "28/28 [==============================] - 40s 1s/step - loss: 0.2067 - accuracy: 0.9747 - val_loss: 0.2298 - val_accuracy: 0.9785\n",
      "Epoch 12: early stopping\n"
     ]
    }
   ],
   "source": [
    "from keras.callbacks import EarlyStopping\n",
    "\n",
    "earlystop_callback = EarlyStopping(\n",
    "    monitor='val_accuracy', \n",
    "    min_delta=0.001, \n",
    "    patience=4, \n",
    "    verbose=1, \n",
    "    mode='auto',\n",
    "    restore_best_weights=True\n",
    ")\n",
    "\n",
    "history = model.fit(\n",
    "    train_generator,\n",
    "    steps_per_epoch=train_generator.samples//batch_size,\n",
    "    epochs=15,\n",
    "    validation_data=validation_generator,\n",
    "    validation_steps=validation_generator.samples//batch_size,\n",
    "    callbacks=[earlystop_callback]\n",
    ")\n"
   ]
  },
  {
   "cell_type": "code",
   "execution_count": 5,
   "id": "f2c61508",
   "metadata": {},
   "outputs": [
    {
     "ename": "InvalidArgumentError",
     "evalue": "Graph execution error:\n\nDetected at node 'categorical_crossentropy/softmax_cross_entropy_with_logits' defined at (most recent call last):\n    File \"/Users/zuzannaszubartowska/.pyenv/versions/3.10.6/lib/python3.10/runpy.py\", line 196, in _run_module_as_main\n      return _run_code(code, main_globals, None,\n    File \"/Users/zuzannaszubartowska/.pyenv/versions/3.10.6/lib/python3.10/runpy.py\", line 86, in _run_code\n      exec(code, run_globals)\n    File \"/Users/zuzannaszubartowska/.pyenv/versions/3.10.6/envs/lewagon/lib/python3.10/site-packages/ipykernel_launcher.py\", line 17, in <module>\n      app.launch_new_instance()\n    File \"/Users/zuzannaszubartowska/.pyenv/versions/3.10.6/envs/lewagon/lib/python3.10/site-packages/traitlets/config/application.py\", line 978, in launch_instance\n      app.start()\n    File \"/Users/zuzannaszubartowska/.pyenv/versions/3.10.6/envs/lewagon/lib/python3.10/site-packages/ipykernel/kernelapp.py\", line 712, in start\n      self.io_loop.start()\n    File \"/Users/zuzannaszubartowska/.pyenv/versions/3.10.6/envs/lewagon/lib/python3.10/site-packages/tornado/platform/asyncio.py\", line 215, in start\n      self.asyncio_loop.run_forever()\n    File \"/Users/zuzannaszubartowska/.pyenv/versions/3.10.6/lib/python3.10/asyncio/base_events.py\", line 600, in run_forever\n      self._run_once()\n    File \"/Users/zuzannaszubartowska/.pyenv/versions/3.10.6/lib/python3.10/asyncio/base_events.py\", line 1896, in _run_once\n      handle._run()\n    File \"/Users/zuzannaszubartowska/.pyenv/versions/3.10.6/lib/python3.10/asyncio/events.py\", line 80, in _run\n      self._context.run(self._callback, *self._args)\n    File \"/Users/zuzannaszubartowska/.pyenv/versions/3.10.6/envs/lewagon/lib/python3.10/site-packages/ipykernel/kernelbase.py\", line 510, in dispatch_queue\n      await self.process_one()\n    File \"/Users/zuzannaszubartowska/.pyenv/versions/3.10.6/envs/lewagon/lib/python3.10/site-packages/ipykernel/kernelbase.py\", line 499, in process_one\n      await dispatch(*args)\n    File \"/Users/zuzannaszubartowska/.pyenv/versions/3.10.6/envs/lewagon/lib/python3.10/site-packages/ipykernel/kernelbase.py\", line 406, in dispatch_shell\n      await result\n    File \"/Users/zuzannaszubartowska/.pyenv/versions/3.10.6/envs/lewagon/lib/python3.10/site-packages/ipykernel/kernelbase.py\", line 730, in execute_request\n      reply_content = await reply_content\n    File \"/Users/zuzannaszubartowska/.pyenv/versions/3.10.6/envs/lewagon/lib/python3.10/site-packages/ipykernel/ipkernel.py\", line 383, in do_execute\n      res = shell.run_cell(\n    File \"/Users/zuzannaszubartowska/.pyenv/versions/3.10.6/envs/lewagon/lib/python3.10/site-packages/ipykernel/zmqshell.py\", line 528, in run_cell\n      return super().run_cell(*args, **kwargs)\n    File \"/Users/zuzannaszubartowska/.pyenv/versions/3.10.6/envs/lewagon/lib/python3.10/site-packages/IPython/core/interactiveshell.py\", line 2885, in run_cell\n      result = self._run_cell(\n    File \"/Users/zuzannaszubartowska/.pyenv/versions/3.10.6/envs/lewagon/lib/python3.10/site-packages/IPython/core/interactiveshell.py\", line 2940, in _run_cell\n      return runner(coro)\n    File \"/Users/zuzannaszubartowska/.pyenv/versions/3.10.6/envs/lewagon/lib/python3.10/site-packages/IPython/core/async_helpers.py\", line 129, in _pseudo_sync_runner\n      coro.send(None)\n    File \"/Users/zuzannaszubartowska/.pyenv/versions/3.10.6/envs/lewagon/lib/python3.10/site-packages/IPython/core/interactiveshell.py\", line 3139, in run_cell_async\n      has_raised = await self.run_ast_nodes(code_ast.body, cell_name,\n    File \"/Users/zuzannaszubartowska/.pyenv/versions/3.10.6/envs/lewagon/lib/python3.10/site-packages/IPython/core/interactiveshell.py\", line 3318, in run_ast_nodes\n      if await self.run_code(code, result, async_=asy):\n    File \"/Users/zuzannaszubartowska/.pyenv/versions/3.10.6/envs/lewagon/lib/python3.10/site-packages/IPython/core/interactiveshell.py\", line 3378, in run_code\n      exec(code_obj, self.user_global_ns, self.user_ns)\n    File \"/var/folders/06/83g1gzl96nj2_cpq0t67k67h0000gn/T/ipykernel_78792/1196842460.py\", line 1, in <module>\n      test_loss, test_acc = model.evaluate(test_generator)\n    File \"/Users/zuzannaszubartowska/.pyenv/versions/3.10.6/envs/lewagon/lib/python3.10/site-packages/keras/utils/traceback_utils.py\", line 65, in error_handler\n      return fn(*args, **kwargs)\n    File \"/Users/zuzannaszubartowska/.pyenv/versions/3.10.6/envs/lewagon/lib/python3.10/site-packages/keras/engine/training.py\", line 1947, in evaluate\n      tmp_logs = self.test_function(iterator)\n    File \"/Users/zuzannaszubartowska/.pyenv/versions/3.10.6/envs/lewagon/lib/python3.10/site-packages/keras/engine/training.py\", line 1727, in test_function\n      return step_function(self, iterator)\n    File \"/Users/zuzannaszubartowska/.pyenv/versions/3.10.6/envs/lewagon/lib/python3.10/site-packages/keras/engine/training.py\", line 1713, in step_function\n      outputs = model.distribute_strategy.run(run_step, args=(data,))\n    File \"/Users/zuzannaszubartowska/.pyenv/versions/3.10.6/envs/lewagon/lib/python3.10/site-packages/keras/engine/training.py\", line 1701, in run_step\n      outputs = model.test_step(data)\n    File \"/Users/zuzannaszubartowska/.pyenv/versions/3.10.6/envs/lewagon/lib/python3.10/site-packages/keras/engine/training.py\", line 1667, in test_step\n      self.compute_loss(x, y, y_pred, sample_weight)\n    File \"/Users/zuzannaszubartowska/.pyenv/versions/3.10.6/envs/lewagon/lib/python3.10/site-packages/keras/engine/training.py\", line 1052, in compute_loss\n      return self.compiled_loss(\n    File \"/Users/zuzannaszubartowska/.pyenv/versions/3.10.6/envs/lewagon/lib/python3.10/site-packages/keras/engine/compile_utils.py\", line 265, in __call__\n      loss_value = loss_obj(y_t, y_p, sample_weight=sw)\n    File \"/Users/zuzannaszubartowska/.pyenv/versions/3.10.6/envs/lewagon/lib/python3.10/site-packages/keras/losses.py\", line 152, in __call__\n      losses = call_fn(y_true, y_pred)\n    File \"/Users/zuzannaszubartowska/.pyenv/versions/3.10.6/envs/lewagon/lib/python3.10/site-packages/keras/losses.py\", line 272, in call\n      return ag_fn(y_true, y_pred, **self._fn_kwargs)\n    File \"/Users/zuzannaszubartowska/.pyenv/versions/3.10.6/envs/lewagon/lib/python3.10/site-packages/keras/losses.py\", line 1990, in categorical_crossentropy\n      return backend.categorical_crossentropy(\n    File \"/Users/zuzannaszubartowska/.pyenv/versions/3.10.6/envs/lewagon/lib/python3.10/site-packages/keras/backend.py\", line 5535, in categorical_crossentropy\n      return tf.nn.softmax_cross_entropy_with_logits(\nNode: 'categorical_crossentropy/softmax_cross_entropy_with_logits'\nlogits and labels must be broadcastable: logits_size=[128,14] labels_size=[128,6]\n\t [[{{node categorical_crossentropy/softmax_cross_entropy_with_logits}}]] [Op:__inference_test_function_1475]",
     "output_type": "error",
     "traceback": [
      "\u001b[0;31m---------------------------------------------------------------------------\u001b[0m",
      "\u001b[0;31mInvalidArgumentError\u001b[0m                      Traceback (most recent call last)",
      "Cell \u001b[0;32mIn [5], line 1\u001b[0m\n\u001b[0;32m----> 1\u001b[0m test_loss, test_acc \u001b[38;5;241m=\u001b[39m model\u001b[38;5;241m.\u001b[39mevaluate(test_generator)\n\u001b[1;32m      3\u001b[0m \u001b[38;5;28mprint\u001b[39m(\u001b[38;5;124m'\u001b[39m\u001b[38;5;124mTest loss:\u001b[39m\u001b[38;5;124m'\u001b[39m, test_loss)\n\u001b[1;32m      4\u001b[0m \u001b[38;5;28mprint\u001b[39m(\u001b[38;5;124m'\u001b[39m\u001b[38;5;124mTest accuracy:\u001b[39m\u001b[38;5;124m'\u001b[39m, test_acc)\n",
      "File \u001b[0;32m~/.pyenv/versions/3.10.6/envs/lewagon/lib/python3.10/site-packages/keras/utils/traceback_utils.py:70\u001b[0m, in \u001b[0;36mfilter_traceback.<locals>.error_handler\u001b[0;34m(*args, **kwargs)\u001b[0m\n\u001b[1;32m     67\u001b[0m     filtered_tb \u001b[38;5;241m=\u001b[39m _process_traceback_frames(e\u001b[38;5;241m.\u001b[39m__traceback__)\n\u001b[1;32m     68\u001b[0m     \u001b[38;5;66;03m# To get the full stack trace, call:\u001b[39;00m\n\u001b[1;32m     69\u001b[0m     \u001b[38;5;66;03m# `tf.debugging.disable_traceback_filtering()`\u001b[39;00m\n\u001b[0;32m---> 70\u001b[0m     \u001b[38;5;28;01mraise\u001b[39;00m e\u001b[38;5;241m.\u001b[39mwith_traceback(filtered_tb) \u001b[38;5;28;01mfrom\u001b[39;00m \u001b[38;5;28mNone\u001b[39m\n\u001b[1;32m     71\u001b[0m \u001b[38;5;28;01mfinally\u001b[39;00m:\n\u001b[1;32m     72\u001b[0m     \u001b[38;5;28;01mdel\u001b[39;00m filtered_tb\n",
      "File \u001b[0;32m~/.pyenv/versions/3.10.6/envs/lewagon/lib/python3.10/site-packages/tensorflow/python/eager/execute.py:54\u001b[0m, in \u001b[0;36mquick_execute\u001b[0;34m(op_name, num_outputs, inputs, attrs, ctx, name)\u001b[0m\n\u001b[1;32m     52\u001b[0m \u001b[38;5;28;01mtry\u001b[39;00m:\n\u001b[1;32m     53\u001b[0m   ctx\u001b[38;5;241m.\u001b[39mensure_initialized()\n\u001b[0;32m---> 54\u001b[0m   tensors \u001b[38;5;241m=\u001b[39m pywrap_tfe\u001b[38;5;241m.\u001b[39mTFE_Py_Execute(ctx\u001b[38;5;241m.\u001b[39m_handle, device_name, op_name,\n\u001b[1;32m     55\u001b[0m                                       inputs, attrs, num_outputs)\n\u001b[1;32m     56\u001b[0m \u001b[38;5;28;01mexcept\u001b[39;00m core\u001b[38;5;241m.\u001b[39m_NotOkStatusException \u001b[38;5;28;01mas\u001b[39;00m e:\n\u001b[1;32m     57\u001b[0m   \u001b[38;5;28;01mif\u001b[39;00m name \u001b[38;5;129;01mis\u001b[39;00m \u001b[38;5;129;01mnot\u001b[39;00m \u001b[38;5;28;01mNone\u001b[39;00m:\n",
      "\u001b[0;31mInvalidArgumentError\u001b[0m: Graph execution error:\n\nDetected at node 'categorical_crossentropy/softmax_cross_entropy_with_logits' defined at (most recent call last):\n    File \"/Users/zuzannaszubartowska/.pyenv/versions/3.10.6/lib/python3.10/runpy.py\", line 196, in _run_module_as_main\n      return _run_code(code, main_globals, None,\n    File \"/Users/zuzannaszubartowska/.pyenv/versions/3.10.6/lib/python3.10/runpy.py\", line 86, in _run_code\n      exec(code, run_globals)\n    File \"/Users/zuzannaszubartowska/.pyenv/versions/3.10.6/envs/lewagon/lib/python3.10/site-packages/ipykernel_launcher.py\", line 17, in <module>\n      app.launch_new_instance()\n    File \"/Users/zuzannaszubartowska/.pyenv/versions/3.10.6/envs/lewagon/lib/python3.10/site-packages/traitlets/config/application.py\", line 978, in launch_instance\n      app.start()\n    File \"/Users/zuzannaszubartowska/.pyenv/versions/3.10.6/envs/lewagon/lib/python3.10/site-packages/ipykernel/kernelapp.py\", line 712, in start\n      self.io_loop.start()\n    File \"/Users/zuzannaszubartowska/.pyenv/versions/3.10.6/envs/lewagon/lib/python3.10/site-packages/tornado/platform/asyncio.py\", line 215, in start\n      self.asyncio_loop.run_forever()\n    File \"/Users/zuzannaszubartowska/.pyenv/versions/3.10.6/lib/python3.10/asyncio/base_events.py\", line 600, in run_forever\n      self._run_once()\n    File \"/Users/zuzannaszubartowska/.pyenv/versions/3.10.6/lib/python3.10/asyncio/base_events.py\", line 1896, in _run_once\n      handle._run()\n    File \"/Users/zuzannaszubartowska/.pyenv/versions/3.10.6/lib/python3.10/asyncio/events.py\", line 80, in _run\n      self._context.run(self._callback, *self._args)\n    File \"/Users/zuzannaszubartowska/.pyenv/versions/3.10.6/envs/lewagon/lib/python3.10/site-packages/ipykernel/kernelbase.py\", line 510, in dispatch_queue\n      await self.process_one()\n    File \"/Users/zuzannaszubartowska/.pyenv/versions/3.10.6/envs/lewagon/lib/python3.10/site-packages/ipykernel/kernelbase.py\", line 499, in process_one\n      await dispatch(*args)\n    File \"/Users/zuzannaszubartowska/.pyenv/versions/3.10.6/envs/lewagon/lib/python3.10/site-packages/ipykernel/kernelbase.py\", line 406, in dispatch_shell\n      await result\n    File \"/Users/zuzannaszubartowska/.pyenv/versions/3.10.6/envs/lewagon/lib/python3.10/site-packages/ipykernel/kernelbase.py\", line 730, in execute_request\n      reply_content = await reply_content\n    File \"/Users/zuzannaszubartowska/.pyenv/versions/3.10.6/envs/lewagon/lib/python3.10/site-packages/ipykernel/ipkernel.py\", line 383, in do_execute\n      res = shell.run_cell(\n    File \"/Users/zuzannaszubartowska/.pyenv/versions/3.10.6/envs/lewagon/lib/python3.10/site-packages/ipykernel/zmqshell.py\", line 528, in run_cell\n      return super().run_cell(*args, **kwargs)\n    File \"/Users/zuzannaszubartowska/.pyenv/versions/3.10.6/envs/lewagon/lib/python3.10/site-packages/IPython/core/interactiveshell.py\", line 2885, in run_cell\n      result = self._run_cell(\n    File \"/Users/zuzannaszubartowska/.pyenv/versions/3.10.6/envs/lewagon/lib/python3.10/site-packages/IPython/core/interactiveshell.py\", line 2940, in _run_cell\n      return runner(coro)\n    File \"/Users/zuzannaszubartowska/.pyenv/versions/3.10.6/envs/lewagon/lib/python3.10/site-packages/IPython/core/async_helpers.py\", line 129, in _pseudo_sync_runner\n      coro.send(None)\n    File \"/Users/zuzannaszubartowska/.pyenv/versions/3.10.6/envs/lewagon/lib/python3.10/site-packages/IPython/core/interactiveshell.py\", line 3139, in run_cell_async\n      has_raised = await self.run_ast_nodes(code_ast.body, cell_name,\n    File \"/Users/zuzannaszubartowska/.pyenv/versions/3.10.6/envs/lewagon/lib/python3.10/site-packages/IPython/core/interactiveshell.py\", line 3318, in run_ast_nodes\n      if await self.run_code(code, result, async_=asy):\n    File \"/Users/zuzannaszubartowska/.pyenv/versions/3.10.6/envs/lewagon/lib/python3.10/site-packages/IPython/core/interactiveshell.py\", line 3378, in run_code\n      exec(code_obj, self.user_global_ns, self.user_ns)\n    File \"/var/folders/06/83g1gzl96nj2_cpq0t67k67h0000gn/T/ipykernel_78792/1196842460.py\", line 1, in <module>\n      test_loss, test_acc = model.evaluate(test_generator)\n    File \"/Users/zuzannaszubartowska/.pyenv/versions/3.10.6/envs/lewagon/lib/python3.10/site-packages/keras/utils/traceback_utils.py\", line 65, in error_handler\n      return fn(*args, **kwargs)\n    File \"/Users/zuzannaszubartowska/.pyenv/versions/3.10.6/envs/lewagon/lib/python3.10/site-packages/keras/engine/training.py\", line 1947, in evaluate\n      tmp_logs = self.test_function(iterator)\n    File \"/Users/zuzannaszubartowska/.pyenv/versions/3.10.6/envs/lewagon/lib/python3.10/site-packages/keras/engine/training.py\", line 1727, in test_function\n      return step_function(self, iterator)\n    File \"/Users/zuzannaszubartowska/.pyenv/versions/3.10.6/envs/lewagon/lib/python3.10/site-packages/keras/engine/training.py\", line 1713, in step_function\n      outputs = model.distribute_strategy.run(run_step, args=(data,))\n    File \"/Users/zuzannaszubartowska/.pyenv/versions/3.10.6/envs/lewagon/lib/python3.10/site-packages/keras/engine/training.py\", line 1701, in run_step\n      outputs = model.test_step(data)\n    File \"/Users/zuzannaszubartowska/.pyenv/versions/3.10.6/envs/lewagon/lib/python3.10/site-packages/keras/engine/training.py\", line 1667, in test_step\n      self.compute_loss(x, y, y_pred, sample_weight)\n    File \"/Users/zuzannaszubartowska/.pyenv/versions/3.10.6/envs/lewagon/lib/python3.10/site-packages/keras/engine/training.py\", line 1052, in compute_loss\n      return self.compiled_loss(\n    File \"/Users/zuzannaszubartowska/.pyenv/versions/3.10.6/envs/lewagon/lib/python3.10/site-packages/keras/engine/compile_utils.py\", line 265, in __call__\n      loss_value = loss_obj(y_t, y_p, sample_weight=sw)\n    File \"/Users/zuzannaszubartowska/.pyenv/versions/3.10.6/envs/lewagon/lib/python3.10/site-packages/keras/losses.py\", line 152, in __call__\n      losses = call_fn(y_true, y_pred)\n    File \"/Users/zuzannaszubartowska/.pyenv/versions/3.10.6/envs/lewagon/lib/python3.10/site-packages/keras/losses.py\", line 272, in call\n      return ag_fn(y_true, y_pred, **self._fn_kwargs)\n    File \"/Users/zuzannaszubartowska/.pyenv/versions/3.10.6/envs/lewagon/lib/python3.10/site-packages/keras/losses.py\", line 1990, in categorical_crossentropy\n      return backend.categorical_crossentropy(\n    File \"/Users/zuzannaszubartowska/.pyenv/versions/3.10.6/envs/lewagon/lib/python3.10/site-packages/keras/backend.py\", line 5535, in categorical_crossentropy\n      return tf.nn.softmax_cross_entropy_with_logits(\nNode: 'categorical_crossentropy/softmax_cross_entropy_with_logits'\nlogits and labels must be broadcastable: logits_size=[128,14] labels_size=[128,6]\n\t [[{{node categorical_crossentropy/softmax_cross_entropy_with_logits}}]] [Op:__inference_test_function_1475]"
     ]
    }
   ],
   "source": [
    "test_loss, test_acc = model.evaluate(test_generator)\n",
    "\n",
    "print('Test loss:', test_loss)\n",
    "print('Test accuracy:', test_acc)"
   ]
  },
  {
   "cell_type": "code",
   "execution_count": 346,
   "id": "58443e6c",
   "metadata": {},
   "outputs": [],
   "source": [
    "model.save('/Users/zuzannaszubartowska/code/zuzannaszu/new_save2/chessmodel.h5')"
   ]
  },
  {
   "cell_type": "code",
   "execution_count": 324,
   "id": "b04d1bd8",
   "metadata": {},
   "outputs": [
    {
     "data": {
      "image/png": "[encoded data removed]",
      "text/plain": [
       "<PIL.Image.Image image mode=RGB size=160x120>"
      ]
     },
     "execution_count": 324,
     "metadata": {},
     "output_type": "execute_result"
    }
   ],
   "source": [
    "from tensorflow.keras.preprocessing.image import load_img, img_to_array\n",
    "\n",
    "img_path = '/Users/zuzannaszubartowska/code/crop_colour/puzzle/more_kings/board56-crop49.jpeg'\n",
    "img = load_img(img_path, target_size=(120, 160))\n",
    "\n",
    "img_array = img_to_array(img)\n",
    "\n",
    "img"
   ]
  },
  {
   "cell_type": "code",
   "execution_count": 325,
   "id": "da8a1086",
   "metadata": {},
   "outputs": [
    {
     "name": "stdout",
     "output_type": "stream",
     "text": [
      "1/1 [==============================] - 0s 26ms/step\n",
      "Predicted class label:  whiteking\n"
     ]
    }
   ],
   "source": [
    "import numpy as np\n",
    "\n",
    "img_array /= 255.0\n",
    "\n",
    "img_array = np.expand_dims(img_array, axis=0)\n",
    "\n",
    "predictions = model.predict(img_array)\n",
    "\n",
    "predicted_class_index = np.argmax(predictions)\n",
    "\n",
    "class_labels = list(train_generator.class_indices.keys())\n",
    "predicted_class_label = class_labels[predicted_class_index]\n",
    "\n",
    "\n",
    "print(\"Predicted class label: \", predicted_class_label)"
   ]
  },
  {
   "cell_type": "code",
   "execution_count": 264,
   "id": "86c64cfa",
   "metadata": {},
   "outputs": [
    {
     "data": {
      "text/plain": [
       "array([[1.5255431e-05, 3.6176771e-02, 9.6375483e-01, 1.9981489e-07,\n",
       "        6.7968949e-06, 4.6097874e-05]], dtype=float32)"
      ]
     },
     "execution_count": 264,
     "metadata": {},
     "output_type": "execute_result"
    }
   ],
   "source": [
    "predictions"
   ]
  },
  {
   "cell_type": "code",
   "execution_count": 347,
   "id": "8aacf1d1",
   "metadata": {},
   "outputs": [],
   "source": [
    "output = {}\n",
    "for idx, p_class in enumerate(predicted_class):\n",
    "    if p_class != 'whiteempty' and p_class != 'blackempty':\n",
    "        if idx in list(range(1,9)):\n",
    "            letter = 'A'\n",
    "        elif idx in list(range(9,17)):\n",
    "            letter = 'B'    \n",
    "        elif idx in list(range(17,25)):\n",
    "            letter = 'C' \n",
    "        elif idx in list(range(25,33)):\n",
    "            letter = 'D' \n",
    "        elif idx in list(range(33,41)):\n",
    "            letter = 'E' \n",
    "        elif idx in list(range(41,49)):\n",
    "            letter = 'F' \n",
    "        elif idx in list(range(49,57)):\n",
    "            letter = 'G' \n",
    "        elif idx in list(range(57,65)):\n",
    "            letter = 'H'\n",
    "        digit = idx % 8\n",
    "        coordinate = letter + str(digit + 1)\n",
    "        if p_class == 'blackking':\n",
    "            output[coordinate] = 'Black_k'\n",
    "        elif p_class == 'blackqueen':\n",
    "            output[coordinate] = 'Black_q'\n",
    "        elif p_class == 'blackbishop':\n",
    "            output[coordinate] = 'Black_b'\n",
    "        elif p_class == 'blackknight':\n",
    "            output[coordinate] = 'Black_kn'\n",
    "        elif p_class == 'blackrook':\n",
    "            output[coordinate] = 'Black_r'\n",
    "        elif p_class == 'blackpawn':\n",
    "            output[coordinate] = 'Black_p'\n",
    "        elif p_class == 'whiteking':\n",
    "            output[coordinate] = 'White_k'\n",
    "        elif p_class == 'whitequeen':\n",
    "            output[coordinate] = 'White_q'\n",
    "        elif p_class == 'whitebishop':\n",
    "            output[coordinate] = 'White_b'\n",
    "        elif p_class == 'whiteknight':\n",
    "            output[coordinate] = 'White_kn'\n",
    "        elif p_class == 'whiterook':\n",
    "            output[coordinate] = 'White_r'\n",
    "        elif p_class == 'whitepawn':\n",
    "            output[coordinate] = 'White_p'\n"
   ]
  },
  {
   "cell_type": "code",
   "execution_count": 340,
   "id": "85ea6540",
   "metadata": {},
   "outputs": [
    {
     "data": {
      "text/plain": [
       "['blackempty',\n",
       " 'whiteempty',\n",
       " 'blackempty',\n",
       " 'whiteempty',\n",
       " 'blackempty',\n",
       " 'whiteempty',\n",
       " 'blackempty',\n",
       " 'blackempty',\n",
       " 'whiteempty',\n",
       " 'blackempty',\n",
       " 'whiteempty',\n",
       " 'blackempty',\n",
       " 'whiteempty',\n",
       " 'blackempty',\n",
       " 'whiteempty',\n",
       " 'whiteempty',\n",
       " 'blackempty',\n",
       " 'whiteempty',\n",
       " 'blackempty',\n",
       " 'whiteempty',\n",
       " 'blackempty',\n",
       " 'whiteempty',\n",
       " 'blackempty',\n",
       " 'blackempty',\n",
       " 'whiteempty',\n",
       " 'blackempty',\n",
       " 'whiteempty',\n",
       " 'blackempty',\n",
       " 'whiteempty',\n",
       " 'blackempty',\n",
       " 'whiteempty',\n",
       " 'whiteempty',\n",
       " 'blackking',\n",
       " 'whiteempty',\n",
       " 'blackempty',\n",
       " 'whiteempty',\n",
       " 'blackempty',\n",
       " 'blackpawn',\n",
       " 'blackpawn',\n",
       " 'blackempty',\n",
       " 'whitepawn',\n",
       " 'blackempty',\n",
       " 'whiteempty',\n",
       " 'blackempty',\n",
       " 'whiteempty',\n",
       " 'blackempty',\n",
       " 'whiteempty',\n",
       " 'whiteempty',\n",
       " 'whiteking',\n",
       " 'whiteempty',\n",
       " 'blackempty',\n",
       " 'whiteempty',\n",
       " 'whitepawn',\n",
       " 'whiteempty',\n",
       " 'whitepawn',\n",
       " 'blackempty',\n",
       " 'whiteempty',\n",
       " 'blackempty',\n",
       " 'whiteempty',\n",
       " 'blackempty',\n",
       " 'whiteempty',\n",
       " 'blackempty',\n",
       " 'whiteempty']"
      ]
     },
     "execution_count": 340,
     "metadata": {},
     "output_type": "execute_result"
    }
   ],
   "source": [
    "predicted_class"
   ]
  },
  {
   "cell_type": "code",
   "execution_count": 348,
   "id": "5c97b88e",
   "metadata": {},
   "outputs": [
    {
     "data": {
      "text/plain": [
       "{'D1': 'Black_k',\n",
       " 'E6': 'Black_p',\n",
       " 'E7': 'Black_p',\n",
       " 'E1': 'White_p',\n",
       " 'F1': 'White_k',\n",
       " 'G5': 'White_p',\n",
       " 'G7': 'White_p'}"
      ]
     },
     "execution_count": 348,
     "metadata": {},
     "output_type": "execute_result"
    }
   ],
   "source": [
    "output"
   ]
  },
  {
   "cell_type": "code",
   "execution_count": 336,
   "id": "998841b7",
   "metadata": {},
   "outputs": [
    {
     "data": {
      "text/plain": [
       "['blackempty',\n",
       " 'whiteempty',\n",
       " 'blackempty',\n",
       " 'whiteempty',\n",
       " 'blackempty',\n",
       " 'whiteempty',\n",
       " 'blackempty',\n",
       " 'blackempty',\n",
       " 'whiteempty',\n",
       " 'blackempty',\n",
       " 'whiteempty',\n",
       " 'blackempty',\n",
       " 'whiteempty',\n",
       " 'blackempty',\n",
       " 'whiteempty',\n",
       " 'whiteempty',\n",
       " 'blackempty',\n",
       " 'whiteempty',\n",
       " 'blackempty',\n",
       " 'whiteempty',\n",
       " 'blackempty',\n",
       " 'whiteempty',\n",
       " 'blackempty',\n",
       " 'blackempty',\n",
       " 'whiteempty',\n",
       " 'blackempty',\n",
       " 'whiteempty',\n",
       " 'blackempty',\n",
       " 'whiteempty',\n",
       " 'blackempty',\n",
       " 'whiteempty',\n",
       " 'whiteempty',\n",
       " 'blackking',\n",
       " 'whiteempty',\n",
       " 'blackempty',\n",
       " 'whiteempty',\n",
       " 'blackempty',\n",
       " 'blackpawn',\n",
       " 'blackpawn',\n",
       " 'blackempty',\n",
       " 'whitepawn',\n",
       " 'blackempty',\n",
       " 'whiteempty',\n",
       " 'blackempty',\n",
       " 'whiteempty',\n",
       " 'blackempty',\n",
       " 'whiteempty',\n",
       " 'whiteempty',\n",
       " 'whiteking',\n",
       " 'whiteempty',\n",
       " 'blackempty',\n",
       " 'whiteempty',\n",
       " 'whitepawn',\n",
       " 'whiteempty',\n",
       " 'whitepawn',\n",
       " 'blackempty',\n",
       " 'whiteempty',\n",
       " 'blackempty',\n",
       " 'whiteempty',\n",
       " 'blackempty',\n",
       " 'whiteempty',\n",
       " 'blackempty',\n",
       " 'whiteempty']"
      ]
     },
     "execution_count": 336,
     "metadata": {},
     "output_type": "execute_result"
    }
   ],
   "source": [
    "images"
   ]
  },
  {
   "cell_type": "code",
   "execution_count": null,
   "id": "06e0c484",
   "metadata": {},
   "outputs": [],
   "source": []
  }
 ],
 "metadata": {
  "kernelspec": {
   "display_name": "Python 3 (ipykernel)",
   "language": "python",
   "name": "python3"
  },
  "language_info": {
   "codemirror_mode": {
    "name": "ipython",
    "version": 3
   },
   "file_extension": ".py",
   "mimetype": "text/x-python",
   "name": "python",
   "nbconvert_exporter": "python",
   "pygments_lexer": "ipython3",
   "version": "3.10.6"
  },
  "toc": {
   "base_numbering": 1,
   "nav_menu": {},
   "number_sections": true,
   "sideBar": true,
   "skip_h1_title": false,
   "title_cell": "Table of Contents",
   "title_sidebar": "Contents",
   "toc_cell": false,
   "toc_position": {},
   "toc_section_display": true,
   "toc_window_display": false
  }
 },
 "nbformat": 4,
 "nbformat_minor": 5
}
