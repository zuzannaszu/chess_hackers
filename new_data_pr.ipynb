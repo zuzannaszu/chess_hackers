{
 "cells": [
  {
   "cell_type": "code",
   "execution_count": 130,
   "id": "8d7358e1",
   "metadata": {},
   "outputs": [
    {
     "name": "stdout",
     "output_type": "stream",
     "text": [
      "Found 2212 images belonging to 14 classes.\n",
      "Found 660 images belonging to 14 classes.\n",
      "Found 1959 images belonging to 14 classes.\n"
     ]
    }
   ],
   "source": [
    "import tensorflow as tf\n",
    "from tensorflow.keras.preprocessing.image import ImageDataGenerator\n",
    "from tensorflow.keras.regularizers import l2\n",
    "\n",
    "image_size = (120, 160)\n",
    "batch_size =64\n",
    "\n",
    "\n",
    "train_dir = \"/Users/zuzannaszubartowska/code/crop_colour/data/train\"\n",
    "test_dir = \"/Users/zuzannaszubartowska/code/crop_colour/data/test\"\n",
    "valid_dir = \"/Users/zuzannaszubartowska/code/crop_colour/data/validation\"\n",
    "\n",
    "\n",
    "num_classes = 14\n",
    "\n",
    "train_datagen = ImageDataGenerator(rescale=1./255)\n",
    "test_datagen = ImageDataGenerator(rescale=1./255)\n",
    "validation_datagen = ImageDataGenerator(rescale=1./255)\n",
    "\n",
    "train_generator = train_datagen.flow_from_directory(\n",
    "    train_dir,\n",
    "    target_size=(120, 160),\n",
    "    batch_size=batch_size,\n",
    "    class_mode='categorical',\n",
    "    classes=['blackbishop', 'blackking', 'blackknight', 'blackpawn', 'blackqueen', 'blackrook', 'whitebishop', 'whiteking', 'whiteknight', 'whitepawn', 'whitequeen', 'whiterook','blackempty','whiteempty'])\n",
    "\n",
    "\n",
    "validation_generator = validation_datagen.flow_from_directory(\n",
    "    valid_dir,\n",
    "    target_size=(120, 160),\n",
    "    batch_size=batch_size,\n",
    "    class_mode='categorical',classes=['blackbishop', 'blackking', 'blackknight', 'blackpawn', 'blackqueen', 'blackrook', 'whitebishop', 'whiteking', 'whiteknight', 'whitepawn', 'whitequeen', 'whiterook','blackempty','whiteempty'])\n",
    "\n",
    "\n",
    "test_generator = test_datagen.flow_from_directory(\n",
    "    test_dir,\n",
    "    target_size=(120, 160),\n",
    "    batch_size=batch_size,\n",
    "    class_mode='categorical',\n",
    "    classes=['blackbishop', 'blackking', 'blackknight', 'blackpawn', 'blackqueen', 'blackrook', 'whitebishop', 'whiteking', 'whiteknight', 'whitepawn', 'whitequeen', 'whiterook','blackempty','whiteempty'])\n",
    "\n",
    "\n",
    "model = tf.keras.models.Sequential([\n",
    "    tf.keras.layers.Conv2D(64, (3, 3), activation='relu', kernel_regularizer=l2(0.001),input_shape=(120, 160,3)),\n",
    "    tf.keras.layers.MaxPooling2D((2, 2)),\n",
    "    tf.keras.layers.Conv2D(128, (3, 3), activation='relu',kernel_regularizer=l2(0.001)),\n",
    "    tf.keras.layers.MaxPooling2D((2, 2)),\n",
    "    tf.keras.layers.Conv2D(256, (2, 2), activation='relu', kernel_regularizer=l2(0.001)),\n",
    "    tf.keras.layers.MaxPooling2D((2, 2)),\n",
    "    tf.keras.layers.Conv2D(512, (3, 3), activation='relu', kernel_regularizer=l2(0.001)),\n",
    "    tf.keras.layers.MaxPooling2D((2, 2)),\n",
    "    tf.keras.layers.Conv2D(1024, (3, 3), activation='relu', kernel_regularizer=l2(0.001)),\n",
    "    tf.keras.layers.MaxPooling2D((2, 2)),\n",
    "    tf.keras.layers.Flatten(),\n",
    "    tf.keras.layers.Dense(512, activation='relu'),\n",
    "    tf.keras.layers.Dropout(0.3),\n",
    "    tf.keras.layers.Dense(num_classes, activation='softmax')\n",
    "    ])"
   ]
  },
  {
   "cell_type": "code",
   "execution_count": 131,
   "id": "b08d53b2",
   "metadata": {},
   "outputs": [],
   "source": [
    "model.compile(loss='categorical_crossentropy',\n",
    "              optimizer='adam',\n",
    "              metrics=['accuracy'])"
   ]
  },
  {
   "cell_type": "code",
   "execution_count": 132,
   "id": "af5a692e",
   "metadata": {},
   "outputs": [
    {
     "name": "stdout",
     "output_type": "stream",
     "text": [
      "Model: \"sequential_5\"\n",
      "_________________________________________________________________\n",
      " Layer (type)                Output Shape              Param #   \n",
      "=================================================================\n",
      " conv2d_25 (Conv2D)          (None, 118, 158, 64)      1792      \n",
      "                                                                 \n",
      " max_pooling2d_25 (MaxPoolin  (None, 59, 79, 64)       0         \n",
      " g2D)                                                            \n",
      "                                                                 \n",
      " conv2d_26 (Conv2D)          (None, 57, 77, 128)       73856     \n",
      "                                                                 \n",
      " max_pooling2d_26 (MaxPoolin  (None, 28, 38, 128)      0         \n",
      " g2D)                                                            \n",
      "                                                                 \n",
      " conv2d_27 (Conv2D)          (None, 27, 37, 256)       131328    \n",
      "                                                                 \n",
      " max_pooling2d_27 (MaxPoolin  (None, 13, 18, 256)      0         \n",
      " g2D)                                                            \n",
      "                                                                 \n",
      " conv2d_28 (Conv2D)          (None, 11, 16, 512)       1180160   \n",
      "                                                                 \n",
      " max_pooling2d_28 (MaxPoolin  (None, 5, 8, 512)        0         \n",
      " g2D)                                                            \n",
      "                                                                 \n",
      " conv2d_29 (Conv2D)          (None, 3, 6, 1024)        4719616   \n",
      "                                                                 \n",
      " max_pooling2d_29 (MaxPoolin  (None, 1, 3, 1024)       0         \n",
      " g2D)                                                            \n",
      "                                                                 \n",
      " flatten_5 (Flatten)         (None, 3072)              0         \n",
      "                                                                 \n",
      " dense_10 (Dense)            (None, 512)               1573376   \n",
      "                                                                 \n",
      " dropout_5 (Dropout)         (None, 512)               0         \n",
      "                                                                 \n",
      " dense_11 (Dense)            (None, 14)                7182      \n",
      "                                                                 \n",
      "=================================================================\n",
      "Total params: 7,687,310\n",
      "Trainable params: 7,687,310\n",
      "Non-trainable params: 0\n",
      "_________________________________________________________________\n"
     ]
    }
   ],
   "source": [
    "model.summary()"
   ]
  },
  {
   "cell_type": "code",
   "execution_count": 133,
   "id": "47feb3a2",
   "metadata": {},
   "outputs": [
    {
     "name": "stdout",
     "output_type": "stream",
     "text": [
      "Epoch 1/100\n",
      "34/34 [==============================] - 55s 2s/step - loss: 2.6232 - accuracy: 0.4078 - val_loss: 1.5633 - val_accuracy: 0.6328\n",
      "Epoch 2/100\n",
      "34/34 [==============================] - 58s 2s/step - loss: 1.5779 - accuracy: 0.5824 - val_loss: 1.0993 - val_accuracy: 0.7391\n",
      "Epoch 3/100\n",
      "34/34 [==============================] - 62s 2s/step - loss: 1.2209 - accuracy: 0.6466 - val_loss: 0.9402 - val_accuracy: 0.7375\n",
      "Epoch 4/100\n",
      "34/34 [==============================] - 62s 2s/step - loss: 1.0023 - accuracy: 0.7100 - val_loss: 1.0218 - val_accuracy: 0.7937\n",
      "Epoch 5/100\n",
      "34/34 [==============================] - 63s 2s/step - loss: 0.8386 - accuracy: 0.7742 - val_loss: 0.9424 - val_accuracy: 0.7969\n",
      "Epoch 6/100\n",
      "34/34 [==============================] - 69s 2s/step - loss: 0.7007 - accuracy: 0.8133 - val_loss: 1.0072 - val_accuracy: 0.8203\n",
      "Epoch 7/100\n",
      "34/34 [==============================] - 72s 2s/step - loss: 0.6190 - accuracy: 0.8347 - val_loss: 0.9299 - val_accuracy: 0.8313\n",
      "Epoch 8/100\n",
      "34/34 [==============================] - 68s 2s/step - loss: 0.5708 - accuracy: 0.8636 - val_loss: 0.7548 - val_accuracy: 0.8703\n",
      "Epoch 9/100\n",
      "34/34 [==============================] - 71s 2s/step - loss: 0.4836 - accuracy: 0.8934 - val_loss: 0.9216 - val_accuracy: 0.8250\n",
      "Epoch 10/100\n",
      "34/34 [==============================] - 401s 12s/step - loss: 0.5703 - accuracy: 0.8794 - val_loss: 0.8721 - val_accuracy: 0.8453\n",
      "Epoch 11/100\n",
      "34/34 [==============================] - 650s 20s/step - loss: 0.4055 - accuracy: 0.9283 - val_loss: 0.8994 - val_accuracy: 0.8797\n",
      "Epoch 12/100\n",
      "34/34 [==============================] - 349s 11s/step - loss: 0.4319 - accuracy: 0.9162 - val_loss: 0.8324 - val_accuracy: 0.8578\n",
      "Epoch 13/100\n",
      "34/34 [==============================] - 349s 11s/step - loss: 0.3657 - accuracy: 0.9409 - val_loss: 1.0163 - val_accuracy: 0.8703\n",
      "Epoch 14/100\n",
      "34/34 [==============================] - 377s 11s/step - loss: 0.3125 - accuracy: 0.9548 - val_loss: 0.9710 - val_accuracy: 0.8656\n",
      "Epoch 15/100\n",
      "34/34 [==============================] - 92s 3s/step - loss: 0.3211 - accuracy: 0.9520 - val_loss: 0.9539 - val_accuracy: 0.8766\n",
      "Epoch 16/100\n",
      "34/34 [==============================] - 120s 4s/step - loss: 0.2636 - accuracy: 0.9679 - val_loss: 0.9816 - val_accuracy: 0.8797\n",
      "Epoch 17/100\n",
      "34/34 [==============================] - 353s 11s/step - loss: 0.2478 - accuracy: 0.9721 - val_loss: 0.9511 - val_accuracy: 0.8922\n",
      "Epoch 18/100\n",
      "34/34 [==============================] - 347s 10s/step - loss: 0.2470 - accuracy: 0.9707 - val_loss: 0.9049 - val_accuracy: 0.8859\n",
      "Epoch 19/100\n",
      "34/34 [==============================] - 347s 10s/step - loss: 0.2195 - accuracy: 0.9809 - val_loss: 1.1217 - val_accuracy: 0.8750\n",
      "Epoch 20/100\n",
      "34/34 [==============================] - 350s 11s/step - loss: 0.2403 - accuracy: 0.9669 - val_loss: 0.8501 - val_accuracy: 0.8844\n",
      "Epoch 21/100\n",
      "34/34 [==============================] - 353s 11s/step - loss: 0.4197 - accuracy: 0.9148 - val_loss: 0.8381 - val_accuracy: 0.8406\n",
      "Epoch 22/100\n",
      "34/34 [==============================] - 351s 11s/step - loss: 0.2989 - accuracy: 0.9637 - val_loss: 0.9557 - val_accuracy: 0.8875\n",
      "Epoch 23/100\n",
      "34/34 [==============================] - 349s 11s/step - loss: 0.2387 - accuracy: 0.9800 - val_loss: 0.9681 - val_accuracy: 0.8984\n",
      "Epoch 24/100\n",
      "34/34 [==============================] - 349s 11s/step - loss: 0.2074 - accuracy: 0.9856 - val_loss: 0.9817 - val_accuracy: 0.8922\n",
      "Epoch 25/100\n",
      "34/34 [==============================] - 349s 11s/step - loss: 0.1987 - accuracy: 0.9837 - val_loss: 0.9762 - val_accuracy: 0.8891\n",
      "Epoch 26/100\n",
      "34/34 [==============================] - 347s 10s/step - loss: 0.1961 - accuracy: 0.9832 - val_loss: 0.9746 - val_accuracy: 0.8828\n",
      "Epoch 27/100\n",
      "34/34 [==============================] - 347s 10s/step - loss: 0.1995 - accuracy: 0.9791 - val_loss: 0.9351 - val_accuracy: 0.8922\n",
      "Epoch 28/100\n",
      "34/34 [==============================] - 49s 1s/step - loss: 0.1905 - accuracy: 0.9846 - val_loss: 1.0693 - val_accuracy: 0.8938\n",
      "Epoch 29/100\n",
      "34/34 [==============================] - 52s 2s/step - loss: 0.1628 - accuracy: 0.9939 - val_loss: 1.0760 - val_accuracy: 0.8938\n",
      "Epoch 30/100\n",
      "34/34 [==============================] - 59s 2s/step - loss: 0.1524 - accuracy: 0.9916 - val_loss: 1.0163 - val_accuracy: 0.8922\n",
      "Epoch 31/100\n",
      "34/34 [==============================] - 64s 2s/step - loss: 0.1551 - accuracy: 0.9912 - val_loss: 0.8189 - val_accuracy: 0.9062\n",
      "Epoch 32/100\n",
      "34/34 [==============================] - 68s 2s/step - loss: 0.1666 - accuracy: 0.9856 - val_loss: 0.7490 - val_accuracy: 0.8922\n",
      "Epoch 33/100\n",
      "34/34 [==============================] - 66s 2s/step - loss: 0.1470 - accuracy: 0.9921 - val_loss: 0.8616 - val_accuracy: 0.8922\n",
      "Epoch 34/100\n",
      "34/34 [==============================] - 69s 2s/step - loss: 0.1273 - accuracy: 0.9967 - val_loss: 1.0585 - val_accuracy: 0.8938\n",
      "Epoch 35/100\n",
      "34/34 [==============================] - 72s 2s/step - loss: 0.2577 - accuracy: 0.9516 - val_loss: 0.7476 - val_accuracy: 0.8750\n",
      "Epoch 36/100\n",
      "34/34 [==============================] - 69s 2s/step - loss: 0.2296 - accuracy: 0.9711 - val_loss: 0.7062 - val_accuracy: 0.9047\n",
      "Epoch 37/100\n",
      "34/34 [==============================] - 68s 2s/step - loss: 0.1826 - accuracy: 0.9842 - val_loss: 0.9954 - val_accuracy: 0.8844\n",
      "Epoch 38/100\n",
      "34/34 [==============================] - 69s 2s/step - loss: 0.1522 - accuracy: 0.9921 - val_loss: 1.0111 - val_accuracy: 0.9016\n",
      "Epoch 39/100\n",
      "34/34 [==============================] - 70s 2s/step - loss: 0.1364 - accuracy: 0.9953 - val_loss: 0.9252 - val_accuracy: 0.9000\n",
      "Epoch 40/100\n",
      "34/34 [==============================] - 69s 2s/step - loss: 0.1410 - accuracy: 0.9939 - val_loss: 0.9628 - val_accuracy: 0.8828\n",
      "Epoch 41/100\n",
      "34/34 [==============================] - ETA: 0s - loss: 0.2168 - accuracy: 0.9651Restoring model weights from the end of the best epoch: 31.\n",
      "34/34 [==============================] - 69s 2s/step - loss: 0.2168 - accuracy: 0.9651 - val_loss: 0.7016 - val_accuracy: 0.8844\n",
      "Epoch 41: early stopping\n"
     ]
    }
   ],
   "source": [
    "from keras.callbacks import EarlyStopping\n",
    "\n",
    "earlystop_callback = EarlyStopping(\n",
    "    monitor='val_accuracy', \n",
    "    min_delta=0.001, \n",
    "    patience=10, \n",
    "    verbose=1, \n",
    "    mode='auto',\n",
    "    restore_best_weights=True\n",
    ")\n",
    "\n",
    "history = model.fit(\n",
    "    train_generator,\n",
    "    steps_per_epoch=train_generator.samples // batch_size,\n",
    "    epochs=100,\n",
    "    validation_data=validation_generator,\n",
    "    validation_steps=validation_generator.samples // batch_size,\n",
    "    callbacks=[earlystop_callback]\n",
    ")\n"
   ]
  },
  {
   "cell_type": "code",
   "execution_count": 134,
   "id": "8bef2e38",
   "metadata": {},
   "outputs": [
    {
     "name": "stdout",
     "output_type": "stream",
     "text": [
      "31/31 [==============================] - 15s 493ms/step - loss: 0.9954 - accuracy: 0.8857\n",
      "Test loss: 0.9954351186752319\n",
      "Test accuracy: 0.88565593957901\n"
     ]
    }
   ],
   "source": [
    "test_loss, test_acc = model.evaluate(test_generator)\n",
    "\n",
    "print('Test loss:', test_loss)\n",
    "print('Test accuracy:', test_acc)"
   ]
  },
  {
   "cell_type": "code",
   "execution_count": 135,
   "id": "b3e31214",
   "metadata": {},
   "outputs": [
    {
     "name": "stderr",
     "output_type": "stream",
     "text": [
      "WARNING:absl:Found untraced functions such as _jit_compiled_convolution_op, _jit_compiled_convolution_op, _jit_compiled_convolution_op, _jit_compiled_convolution_op, _jit_compiled_convolution_op while saving (showing 5 of 5). These functions will not be directly callable after loading.\n"
     ]
    },
    {
     "name": "stdout",
     "output_type": "stream",
     "text": [
      "INFO:tensorflow:Assets written to: /Users/zuzannaszubartowska/code/zuzannaszu/chess_hackers/assets\n"
     ]
    },
    {
     "name": "stderr",
     "output_type": "stream",
     "text": [
      "INFO:tensorflow:Assets written to: /Users/zuzannaszubartowska/code/zuzannaszu/chess_hackers/assets\n"
     ]
    }
   ],
   "source": [
    "model.save('/Users/zuzannaszubartowska/code/zuzannaszu/chess_hackers')"
   ]
  },
  {
   "cell_type": "code",
   "execution_count": 136,
   "id": "20a2551d",
   "metadata": {},
   "outputs": [
    {
     "data": {
      "image/png": "[encoded data removed]",
      "text/plain": [
       "<PIL.Image.Image image mode=RGB size=160x120>"
      ]
     },
     "execution_count": 136,
     "metadata": {},
     "output_type": "execute_result"
    }
   ],
   "source": [
    "from tensorflow.keras.preprocessing.image import load_img, img_to_array\n",
    "\n",
    "img_path = '/Users/zuzannaszubartowska/code/crop_colour/puzzle/whiteking/puzzle2-crop62.jpeg'\n",
    "img = load_img(img_path, target_size=(120, 160))\n",
    "\n",
    "img_array = img_to_array(img)\n",
    "\n",
    "img"
   ]
  },
  {
   "cell_type": "code",
   "execution_count": 137,
   "id": "be040333",
   "metadata": {},
   "outputs": [
    {
     "name": "stdout",
     "output_type": "stream",
     "text": [
      "1/1 [==============================] - 0s 98ms/step\n",
      "Predicted class label:  whitepawn\n"
     ]
    }
   ],
   "source": [
    "import numpy as np\n",
    "\n",
    "img_array /= 255.0\n",
    "\n",
    "img_array = np.expand_dims(img_array, axis=0)\n",
    "\n",
    "predictions = model.predict(img_array)\n",
    "\n",
    "predicted_class_index = np.argmax(predictions)\n",
    "\n",
    "class_labels = list(train_generator.class_indices.keys())\n",
    "predicted_class_label = class_labels[predicted_class_index]\n",
    "\n",
    "\n",
    "print(\"Predicted class label: \", predicted_class_label)"
   ]
  },
  {
   "cell_type": "code",
   "execution_count": 103,
   "id": "09c56871",
   "metadata": {},
   "outputs": [],
   "source": []
  },
  {
   "cell_type": "code",
   "execution_count": null,
   "id": "77bad37d",
   "metadata": {},
   "outputs": [],
   "source": []
  },
  {
   "cell_type": "code",
   "execution_count": null,
   "id": "979e1b1f",
   "metadata": {},
   "outputs": [],
   "source": []
  }
 ],
 "metadata": {
  "kernelspec": {
   "display_name": "Python 3 (ipykernel)",
   "language": "python",
   "name": "python3"
  },
  "language_info": {
   "codemirror_mode": {
    "name": "ipython",
    "version": 3
   },
   "file_extension": ".py",
   "mimetype": "text/x-python",
   "name": "python",
   "nbconvert_exporter": "python",
   "pygments_lexer": "ipython3",
   "version": "3.10.6"
  },
  "toc": {
   "base_numbering": 1,
   "nav_menu": {},
   "number_sections": true,
   "sideBar": true,
   "skip_h1_title": false,
   "title_cell": "Table of Contents",
   "title_sidebar": "Contents",
   "toc_cell": false,
   "toc_position": {},
   "toc_section_display": true,
   "toc_window_display": false
  }
 },
 "nbformat": 4,
 "nbformat_minor": 5
}
