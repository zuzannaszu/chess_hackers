{
  "cells": [
    {
      "cell_type": "code",
      "execution_count": 1,
      "metadata": {
        "colab": {
          "base_uri": "https://localhost:8080/"
        },
        "id": "tetDDlvEsQdb",
        "outputId": "42b57917-230e-40f7-a97d-e6343891f044"
      },
      "outputs": [
        {
          "output_type": "stream",
          "name": "stdout",
          "text": [
            "Drive already mounted at /content/drive; to attempt to forcibly remount, call drive.mount(\"/content/drive\", force_remount=True).\n"
          ]
        }
      ],
      "source": [
        "from google.colab import drive\n",
        "drive.mount('/content/drive')\n"
      ],
      "id": "tetDDlvEsQdb"
    },
    {
      "cell_type": "code",
      "execution_count": 2,
      "metadata": {
        "colab": {
          "base_uri": "https://localhost:8080/"
        },
        "id": "6ea037a9",
        "outputId": "8b130caa-4d89-4c12-8c99-6d5851fe2df9"
      },
      "outputs": [
        {
          "output_type": "stream",
          "name": "stdout",
          "text": [
            "Found 1017 images belonging to 12 classes.\n",
            "Found 1002 images belonging to 12 classes.\n",
            "Found 4331 images belonging to 12 classes.\n"
          ]
        }
      ],
      "source": [
        "import tensorflow as tf\n",
        "from tensorflow.keras.preprocessing.image import ImageDataGenerator\n",
        "from tensorflow.keras.regularizers import l2\n",
        "\n",
        "image_size = (480, 640)\n",
        "batch_size =128\n",
        "\n",
        "\n",
        "train_dir = \"/content/drive/My Drive/Colab Notebooks/new_chess_data/train_data\"\n",
        "test_dir = \"/content/drive/My Drive/Colab Notebooks/new_chess_data/test_data\"\n",
        "valid_dir = \"/content/drive/My Drive/Colab Notebooks/new_chess_data/validation_data\"\n",
        "\n",
        "\n",
        "num_classes = 12\n",
        "\n",
        "train_datagen = ImageDataGenerator(rescale=1./255)\n",
        "test_datagen = ImageDataGenerator(rescale=1./255)\n",
        "validation_datagen = ImageDataGenerator(rescale=1./255)\n",
        "\n",
        "train_generator = train_datagen.flow_from_directory(\n",
        "    train_dir,\n",
        "    target_size=(120, 160),\n",
        "    batch_size=batch_size,\n",
        "    class_mode='categorical')\n",
        "\n",
        "\n",
        "validation_generator = validation_datagen.flow_from_directory(\n",
        "    valid_dir,\n",
        "    target_size=(120, 160),\n",
        "    batch_size=batch_size,\n",
        "    class_mode='categorical')\n",
        "\n",
        "\n",
        "test_generator = test_datagen.flow_from_directory(\n",
        "    test_dir,\n",
        "    target_size=(120, 160),\n",
        "    batch_size=batch_size,\n",
        "    class_mode='categorical')\n",
        "\n",
        "\n",
        "model = tf.keras.models.Sequential([\n",
        "    tf.keras.layers.Conv2D(64, (3, 3), activation='relu', kernel_regularizer=l2(0.001),input_shape=(120, 160,3)),\n",
        "    tf.keras.layers.MaxPooling2D((2, 2)),\n",
        "    tf.keras.layers.Conv2D(128, (3, 3), activation='relu',kernel_regularizer=l2(0.001)),\n",
        "    tf.keras.layers.MaxPooling2D((2, 2)),\n",
        "    tf.keras.layers.Conv2D(256, (2, 2), activation='relu', kernel_regularizer=l2(0.001)),\n",
        "    tf.keras.layers.MaxPooling2D((2, 2)),\n",
        "    tf.keras.layers.Conv2D(512, (3, 3), activation='relu', kernel_regularizer=l2(0.001)),\n",
        "    tf.keras.layers.MaxPooling2D((2, 2)),\n",
        "    tf.keras.layers.Conv2D(1024, (3, 3), activation='relu', kernel_regularizer=l2(0.001)),\n",
        "    tf.keras.layers.MaxPooling2D((2, 2)),\n",
        "    tf.keras.layers.Flatten(),\n",
        "    tf.keras.layers.Dense(512, activation='relu'),\n",
        "    tf.keras.layers.Dropout(0.3),\n",
        "    tf.keras.layers.Dense(num_classes, activation='softmax')\n",
        "    ])\n"
      ],
      "id": "6ea037a9"
    },
    {
      "cell_type": "markdown",
      "metadata": {
        "id": "A5Bmd4m2rt_r"
      },
      "source": [],
      "id": "A5Bmd4m2rt_r"
    },
    {
      "cell_type": "code",
      "execution_count": 3,
      "metadata": {
        "id": "f54ab6c0"
      },
      "outputs": [],
      "source": [
        "model.compile(loss='categorical_crossentropy',\n",
        "              optimizer='adam',\n",
        "              metrics=['accuracy'])"
      ],
      "id": "f54ab6c0"
    },
    {
      "cell_type": "code",
      "execution_count": 4,
      "metadata": {
        "colab": {
          "base_uri": "https://localhost:8080/"
        },
        "id": "cc2c97e5",
        "outputId": "b9947873-6f25-4799-8629-38cf6f29ca49"
      },
      "outputs": [
        {
          "output_type": "stream",
          "name": "stdout",
          "text": [
            "Model: \"sequential\"\n",
            "_________________________________________________________________\n",
            " Layer (type)                Output Shape              Param #   \n",
            "=================================================================\n",
            " conv2d (Conv2D)             (None, 118, 158, 64)      1792      \n",
            "                                                                 \n",
            " max_pooling2d (MaxPooling2D  (None, 59, 79, 64)       0         \n",
            " )                                                               \n",
            "                                                                 \n",
            " conv2d_1 (Conv2D)           (None, 57, 77, 128)       73856     \n",
            "                                                                 \n",
            " max_pooling2d_1 (MaxPooling  (None, 28, 38, 128)      0         \n",
            " 2D)                                                             \n",
            "                                                                 \n",
            " conv2d_2 (Conv2D)           (None, 27, 37, 256)       131328    \n",
            "                                                                 \n",
            " max_pooling2d_2 (MaxPooling  (None, 13, 18, 256)      0         \n",
            " 2D)                                                             \n",
            "                                                                 \n",
            " conv2d_3 (Conv2D)           (None, 11, 16, 512)       1180160   \n",
            "                                                                 \n",
            " max_pooling2d_3 (MaxPooling  (None, 5, 8, 512)        0         \n",
            " 2D)                                                             \n",
            "                                                                 \n",
            " conv2d_4 (Conv2D)           (None, 3, 6, 1024)        4719616   \n",
            "                                                                 \n",
            " max_pooling2d_4 (MaxPooling  (None, 1, 3, 1024)       0         \n",
            " 2D)                                                             \n",
            "                                                                 \n",
            " flatten (Flatten)           (None, 3072)              0         \n",
            "                                                                 \n",
            " dense (Dense)               (None, 512)               1573376   \n",
            "                                                                 \n",
            " dropout (Dropout)           (None, 512)               0         \n",
            "                                                                 \n",
            " dense_1 (Dense)             (None, 12)                6156      \n",
            "                                                                 \n",
            "=================================================================\n",
            "Total params: 7,686,284\n",
            "Trainable params: 7,686,284\n",
            "Non-trainable params: 0\n",
            "_________________________________________________________________\n"
          ]
        }
      ],
      "source": [
        "model.summary()"
      ],
      "id": "cc2c97e5"
    },
    {
      "cell_type": "code",
      "execution_count": 5,
      "metadata": {
        "colab": {
          "base_uri": "https://localhost:8080/"
        },
        "id": "23a3ff3c",
        "outputId": "464299b5-e916-4a36-e19a-b5d817e89232"
      },
      "outputs": [
        {
          "output_type": "stream",
          "name": "stdout",
          "text": [
            "Epoch 1/100\n",
            "7/7 [==============================] - 28s 3s/step - loss: 3.5329 - accuracy: 0.1260 - val_loss: 3.2325 - val_accuracy: 0.1339\n",
            "Epoch 2/100\n",
            "7/7 [==============================] - 17s 3s/step - loss: 3.0920 - accuracy: 0.1260 - val_loss: 2.9241 - val_accuracy: 0.1362\n",
            "Epoch 3/100\n",
            "7/7 [==============================] - 17s 3s/step - loss: 2.8603 - accuracy: 0.1305 - val_loss: 2.7693 - val_accuracy: 0.1317\n",
            "Epoch 4/100\n",
            "7/7 [==============================] - 17s 3s/step - loss: 2.7348 - accuracy: 0.1316 - val_loss: 2.6745 - val_accuracy: 0.1395\n",
            "Epoch 5/100\n",
            "7/7 [==============================] - 17s 3s/step - loss: 2.6596 - accuracy: 0.1406 - val_loss: 2.6110 - val_accuracy: 0.1451\n",
            "Epoch 6/100\n",
            "7/7 [==============================] - 17s 3s/step - loss: 2.5926 - accuracy: 0.1406 - val_loss: 2.5764 - val_accuracy: 0.1440\n",
            "Epoch 7/100\n",
            "7/7 [==============================] - 17s 3s/step - loss: 2.5185 - accuracy: 0.1519 - val_loss: 2.4701 - val_accuracy: 0.1886\n",
            "Epoch 8/100\n",
            "7/7 [==============================] - 18s 3s/step - loss: 2.4518 - accuracy: 0.1822 - val_loss: 2.4000 - val_accuracy: 0.1830\n",
            "Epoch 9/100\n",
            "7/7 [==============================] - 17s 3s/step - loss: 2.3612 - accuracy: 0.1822 - val_loss: 2.3405 - val_accuracy: 0.1897\n",
            "Epoch 10/100\n",
            "7/7 [==============================] - 17s 3s/step - loss: 2.3260 - accuracy: 0.1991 - val_loss: 2.1813 - val_accuracy: 0.2958\n",
            "Epoch 11/100\n",
            "7/7 [==============================] - 17s 3s/step - loss: 2.1518 - accuracy: 0.2677 - val_loss: 2.0112 - val_accuracy: 0.2891\n",
            "Epoch 12/100\n",
            "7/7 [==============================] - 17s 3s/step - loss: 2.0171 - accuracy: 0.2632 - val_loss: 1.9020 - val_accuracy: 0.3181\n",
            "Epoch 13/100\n",
            "7/7 [==============================] - 17s 3s/step - loss: 1.8963 - accuracy: 0.3116 - val_loss: 1.7620 - val_accuracy: 0.3583\n",
            "Epoch 14/100\n",
            "7/7 [==============================] - 17s 3s/step - loss: 1.7587 - accuracy: 0.3510 - val_loss: 1.6871 - val_accuracy: 0.3527\n",
            "Epoch 15/100\n",
            "7/7 [==============================] - 17s 3s/step - loss: 1.6913 - accuracy: 0.3847 - val_loss: 1.6598 - val_accuracy: 0.3973\n",
            "Epoch 16/100\n",
            "7/7 [==============================] - 17s 3s/step - loss: 1.7201 - accuracy: 0.3678 - val_loss: 1.7527 - val_accuracy: 0.3382\n",
            "Epoch 17/100\n",
            "7/7 [==============================] - 17s 3s/step - loss: 1.6768 - accuracy: 0.3543 - val_loss: 1.5667 - val_accuracy: 0.4230\n",
            "Epoch 18/100\n",
            "7/7 [==============================] - 17s 3s/step - loss: 1.5435 - accuracy: 0.4297 - val_loss: 1.4162 - val_accuracy: 0.5045\n",
            "Epoch 19/100\n",
            "7/7 [==============================] - 17s 3s/step - loss: 1.4532 - accuracy: 0.4612 - val_loss: 1.4285 - val_accuracy: 0.4799\n",
            "Epoch 20/100\n",
            "7/7 [==============================] - 17s 3s/step - loss: 1.4386 - accuracy: 0.4601 - val_loss: 1.3795 - val_accuracy: 0.4855\n",
            "Epoch 21/100\n",
            "7/7 [==============================] - 18s 3s/step - loss: 1.4354 - accuracy: 0.4634 - val_loss: 1.3994 - val_accuracy: 0.4955\n",
            "Epoch 22/100\n",
            "7/7 [==============================] - 17s 3s/step - loss: 1.3457 - accuracy: 0.4938 - val_loss: 1.4069 - val_accuracy: 0.4498\n",
            "Epoch 23/100\n",
            "7/7 [==============================] - 17s 3s/step - loss: 1.3401 - accuracy: 0.5051 - val_loss: 1.2914 - val_accuracy: 0.5435\n",
            "Epoch 24/100\n",
            "7/7 [==============================] - 17s 3s/step - loss: 1.2539 - accuracy: 0.5413 - val_loss: 1.2801 - val_accuracy: 0.5469\n",
            "Epoch 25/100\n",
            "7/7 [==============================] - 16s 3s/step - loss: 1.2137 - accuracy: 0.5624 - val_loss: 1.1854 - val_accuracy: 0.5848\n",
            "Epoch 26/100\n",
            "7/7 [==============================] - 17s 3s/step - loss: 1.1827 - accuracy: 0.5636 - val_loss: 1.3475 - val_accuracy: 0.5368\n",
            "Epoch 27/100\n",
            "7/7 [==============================] - 17s 3s/step - loss: 1.2431 - accuracy: 0.5579 - val_loss: 1.4459 - val_accuracy: 0.5223\n",
            "Epoch 28/100\n",
            "7/7 [==============================] - 17s 3s/step - loss: 1.2134 - accuracy: 0.5546 - val_loss: 1.2635 - val_accuracy: 0.5748\n",
            "Epoch 29/100\n",
            "7/7 [==============================] - 17s 3s/step - loss: 1.1139 - accuracy: 0.6029 - val_loss: 1.1217 - val_accuracy: 0.6239\n",
            "Epoch 30/100\n",
            "7/7 [==============================] - 17s 3s/step - loss: 0.9779 - accuracy: 0.6524 - val_loss: 1.1187 - val_accuracy: 0.6328\n",
            "Epoch 31/100\n",
            "7/7 [==============================] - 16s 3s/step - loss: 0.9465 - accuracy: 0.6741 - val_loss: 1.1019 - val_accuracy: 0.6272\n",
            "Epoch 32/100\n",
            "7/7 [==============================] - 17s 3s/step - loss: 1.0258 - accuracy: 0.6434 - val_loss: 1.0518 - val_accuracy: 0.6618\n",
            "Epoch 33/100\n",
            "7/7 [==============================] - 17s 3s/step - loss: 0.9719 - accuracy: 0.6839 - val_loss: 1.0818 - val_accuracy: 0.6328\n",
            "Epoch 34/100\n",
            "7/7 [==============================] - 16s 2s/step - loss: 0.8744 - accuracy: 0.7334 - val_loss: 1.0353 - val_accuracy: 0.6696\n",
            "Epoch 35/100\n",
            "7/7 [==============================] - 17s 3s/step - loss: 0.8582 - accuracy: 0.7109 - val_loss: 0.9795 - val_accuracy: 0.6897\n",
            "Epoch 36/100\n",
            "7/7 [==============================] - 16s 3s/step - loss: 0.7884 - accuracy: 0.7537 - val_loss: 0.9399 - val_accuracy: 0.7054\n",
            "Epoch 37/100\n",
            "7/7 [==============================] - 16s 3s/step - loss: 0.8293 - accuracy: 0.7368 - val_loss: 1.0408 - val_accuracy: 0.6696\n",
            "Epoch 38/100\n",
            "7/7 [==============================] - 17s 3s/step - loss: 0.7913 - accuracy: 0.7413 - val_loss: 1.0127 - val_accuracy: 0.6975\n",
            "Epoch 39/100\n",
            "7/7 [==============================] - 17s 3s/step - loss: 0.7947 - accuracy: 0.7447 - val_loss: 1.0876 - val_accuracy: 0.6629\n",
            "Epoch 40/100\n",
            "7/7 [==============================] - 16s 3s/step - loss: 0.8205 - accuracy: 0.7390 - val_loss: 0.9730 - val_accuracy: 0.7121\n",
            "Epoch 41/100\n",
            "7/7 [==============================] - 17s 3s/step - loss: 0.7362 - accuracy: 0.7717 - val_loss: 0.9078 - val_accuracy: 0.7333\n",
            "Epoch 42/100\n",
            "7/7 [==============================] - 17s 3s/step - loss: 0.7105 - accuracy: 0.7829 - val_loss: 0.9979 - val_accuracy: 0.7087\n",
            "Epoch 43/100\n",
            "7/7 [==============================] - 17s 3s/step - loss: 0.7734 - accuracy: 0.7604 - val_loss: 1.0001 - val_accuracy: 0.6975\n",
            "Epoch 44/100\n",
            "7/7 [==============================] - 17s 3s/step - loss: 0.7375 - accuracy: 0.7728 - val_loss: 0.9606 - val_accuracy: 0.7076\n",
            "Epoch 45/100\n",
            "7/7 [==============================] - 17s 3s/step - loss: 0.6927 - accuracy: 0.7829 - val_loss: 0.8903 - val_accuracy: 0.7321\n",
            "Epoch 46/100\n",
            "7/7 [==============================] - 17s 3s/step - loss: 0.6339 - accuracy: 0.8170 - val_loss: 0.8861 - val_accuracy: 0.7422\n",
            "Epoch 47/100\n",
            "7/7 [==============================] - 17s 3s/step - loss: 0.6207 - accuracy: 0.8223 - val_loss: 0.9093 - val_accuracy: 0.7433\n",
            "Epoch 48/100\n",
            "7/7 [==============================] - 17s 3s/step - loss: 0.6253 - accuracy: 0.8144 - val_loss: 0.9878 - val_accuracy: 0.7310\n",
            "Epoch 49/100\n",
            "7/7 [==============================] - 17s 3s/step - loss: 0.6046 - accuracy: 0.8256 - val_loss: 0.8726 - val_accuracy: 0.7578\n",
            "Epoch 50/100\n",
            "7/7 [==============================] - 16s 3s/step - loss: 0.5698 - accuracy: 0.8425 - val_loss: 0.8456 - val_accuracy: 0.7533\n",
            "Epoch 51/100\n",
            "7/7 [==============================] - 16s 3s/step - loss: 0.5938 - accuracy: 0.8335 - val_loss: 0.8481 - val_accuracy: 0.7712\n",
            "Epoch 52/100\n",
            "7/7 [==============================] - 17s 3s/step - loss: 0.5911 - accuracy: 0.8358 - val_loss: 0.9196 - val_accuracy: 0.7266\n",
            "Epoch 53/100\n",
            "7/7 [==============================] - 17s 3s/step - loss: 0.6856 - accuracy: 0.8020 - val_loss: 0.8892 - val_accuracy: 0.7623\n",
            "Epoch 54/100\n",
            "7/7 [==============================] - 17s 3s/step - loss: 0.6748 - accuracy: 0.8043 - val_loss: 1.0004 - val_accuracy: 0.7154\n",
            "Epoch 55/100\n",
            "7/7 [==============================] - 17s 3s/step - loss: 0.6333 - accuracy: 0.8166 - val_loss: 0.8896 - val_accuracy: 0.7533\n",
            "Epoch 56/100\n",
            "7/7 [==============================] - 17s 3s/step - loss: 0.5758 - accuracy: 0.8493 - val_loss: 0.8689 - val_accuracy: 0.7768\n",
            "Epoch 57/100\n",
            "7/7 [==============================] - 17s 3s/step - loss: 0.5362 - accuracy: 0.8616 - val_loss: 0.9158 - val_accuracy: 0.7645\n",
            "Epoch 58/100\n",
            "7/7 [==============================] - 17s 3s/step - loss: 0.5072 - accuracy: 0.8650 - val_loss: 0.8772 - val_accuracy: 0.7734\n",
            "Epoch 59/100\n",
            "7/7 [==============================] - 16s 3s/step - loss: 0.5221 - accuracy: 0.8673 - val_loss: 0.8891 - val_accuracy: 0.7701\n",
            "Epoch 60/100\n",
            "7/7 [==============================] - 17s 3s/step - loss: 0.5440 - accuracy: 0.8526 - val_loss: 0.8914 - val_accuracy: 0.7679\n",
            "Epoch 61/100\n",
            "7/7 [==============================] - 17s 3s/step - loss: 0.4963 - accuracy: 0.8729 - val_loss: 0.8782 - val_accuracy: 0.7712\n",
            "Epoch 62/100\n",
            "7/7 [==============================] - 16s 3s/step - loss: 0.4696 - accuracy: 0.8898 - val_loss: 0.9193 - val_accuracy: 0.7656\n",
            "Epoch 63/100\n",
            "7/7 [==============================] - 17s 3s/step - loss: 0.4961 - accuracy: 0.8684 - val_loss: 1.0373 - val_accuracy: 0.7366\n",
            "Epoch 64/100\n",
            "7/7 [==============================] - 17s 3s/step - loss: 0.6709 - accuracy: 0.8200 - val_loss: 1.1364 - val_accuracy: 0.6964\n",
            "Epoch 65/100\n",
            "7/7 [==============================] - 16s 2s/step - loss: 0.5981 - accuracy: 0.8346 - val_loss: 0.8976 - val_accuracy: 0.7344\n",
            "Epoch 66/100\n",
            "7/7 [==============================] - ETA: 0s - loss: 0.5407 - accuracy: 0.8538Restoring model weights from the end of the best epoch: 56.\n",
            "7/7 [==============================] - 17s 3s/step - loss: 0.5407 - accuracy: 0.8538 - val_loss: 0.8474 - val_accuracy: 0.7757\n",
            "Epoch 66: early stopping\n"
          ]
        }
      ],
      "source": [
        "from keras.callbacks import EarlyStopping\n",
        "\n",
        "earlystop_callback = EarlyStopping(\n",
        "    monitor='val_accuracy', \n",
        "    min_delta=0.001, \n",
        "    patience=10, \n",
        "    verbose=1, \n",
        "    mode='auto',\n",
        "    restore_best_weights=True\n",
        ")\n",
        "\n",
        "history = model.fit(\n",
        "    train_generator,\n",
        "    steps_per_epoch=train_generator.samples // batch_size,\n",
        "    epochs=100,\n",
        "    validation_data=validation_generator,\n",
        "    validation_steps=validation_generator.samples // batch_size,\n",
        "    callbacks=[earlystop_callback]\n",
        ")\n",
        "\n"
      ],
      "id": "23a3ff3c"
    },
    {
      "cell_type": "code",
      "execution_count": 7,
      "metadata": {
        "id": "4kcIPaYoR2Y8",
        "colab": {
          "base_uri": "https://localhost:8080/"
        },
        "outputId": "41598f81-e163-4a2d-8fb8-c05fb252a574"
      },
      "outputs": [
        {
          "output_type": "stream",
          "name": "stdout",
          "text": [
            "34/34 [==============================] - 878s 27s/step - loss: 0.8845 - accuracy: 0.7502\n",
            "Test loss: 0.8845298886299133\n",
            "Test accuracy: 0.7501731514930725\n"
          ]
        }
      ],
      "source": [
        "test_loss, test_acc = model.evaluate(test_generator)\n",
        "\n",
        "print('Test loss:', test_loss)\n",
        "print('Test accuracy:', test_acc)"
      ],
      "id": "4kcIPaYoR2Y8"
    },
    {
      "cell_type": "code",
      "source": [],
      "metadata": {
        "id": "i25xk-BgzynH"
      },
      "id": "i25xk-BgzynH",
      "execution_count": null,
      "outputs": []
    }
  ],
  "metadata": {
    "accelerator": "GPU",
    "colab": {
      "machine_shape": "hm",
      "provenance": []
    },
    "gpuClass": "premium",
    "kernelspec": {
      "display_name": "Python 3",
      "language": "python",
      "name": "python3"
    },
    "language_info": {
      "codemirror_mode": {
        "name": "ipython",
        "version": 3
      },
      "file_extension": ".py",
      "mimetype": "text/x-python",
      "name": "python",
      "nbconvert_exporter": "python",
      "pygments_lexer": "ipython3",
      "version": "3.10.6"
    },
    "toc": {
      "base_numbering": 1,
      "nav_menu": {},
      "number_sections": true,
      "sideBar": true,
      "skip_h1_title": false,
      "title_cell": "Table of Contents",
      "title_sidebar": "Contents",
      "toc_cell": false,
      "toc_position": {},
      "toc_section_display": true,
      "toc_window_display": false
    },
    "vscode": {
      "interpreter": {
        "hash": "94c75baf4423e2d03862508041d420244b9c57cbf67a2607cd7d181e2e9ed35b"
      }
    }
  },
  "nbformat": 4,
  "nbformat_minor": 5
}